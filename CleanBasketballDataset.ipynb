{
 "cells": [
  {
   "cell_type": "markdown",
   "id": "10fc854c-e93d-4d89-9d57-b815d05eee42",
   "metadata": {},
   "source": [
    "## Note: run only if needed!"
   ]
  },
  {
   "cell_type": "code",
   "execution_count": 20,
   "id": "67bc6961-8b26-43f2-b1cf-21d2c8a1f18e",
   "metadata": {},
   "outputs": [],
   "source": [
    "import pandas as pd\n",
    "import os"
   ]
  },
  {
   "cell_type": "code",
   "execution_count": 51,
   "id": "866135a3-d9bb-4430-bdba-dfdaf0796099",
   "metadata": {},
   "outputs": [],
   "source": [
    "def move_labels_and_remove_missing_files(file_path, labels):\n",
    "    files = [f for f in os.listdir(file_path) if f.endswith('jpg')]\n",
    "    for f in files:\n",
    "        if f not in labels.index:\n",
    "            if os.path.exists(os.path.join(file_path, f)):   # shouldn't need to do this, but better to be safe\n",
    "                os.remove(os.path.join(file_path, f))\n",
    "        prefix = f.split('_jpg')[0]\n",
    "        num = ''\n",
    "        for char in reversed(prefix):\n",
    "            if char.isdigit():\n",
    "                num = char + num\n",
    "            else:\n",
    "                break\n",
    "        padded_filename = num.zfill(4) + \".jpg\"\n",
    "        if os.path.exists(os.path.join(file_path, f)):\n",
    "            os.rename(os.path.join(file_path, f), os.path.join(file_path, padded_filename))\n",
    "        labels = labels.rename(index={f: padded_filename})\n",
    "\n",
    "    return labels"
   ]
  },
  {
   "cell_type": "code",
   "execution_count": 56,
   "id": "2dd20884-58dd-4ac5-9646-1919d3bb7ab5",
   "metadata": {},
   "outputs": [],
   "source": [
    "def create_label_file(file_path, orig_df):\n",
    "    labels = orig_df.copy(deep=True)\n",
    "    labels['visibility'] = 1\n",
    "    \n",
    "    x_coord = (labels.loc[:, 'xmin'] + labels.loc[:, 'xmax']) // 2\n",
    "    labels['x-coordinate'] = x_coord\n",
    "\n",
    "    y_coord = (labels.loc[:, 'ymin'] + labels.loc[:, 'ymax']) // 2\n",
    "    labels['y-coordinate'] = y_coord\n",
    "\n",
    "    labels['status'] = 0\n",
    "\n",
    "    labels.index.names = ['file name']\n",
    "    labels = labels.drop(['width', 'height', 'class', 'xmin', 'ymin', 'xmax', 'ymax'], axis=1)\n",
    "    labels = labels.sort_index(ascending=True)\n",
    "\n",
    "    labels.to_csv(file_path + \"/Label.csv\", index=True)"
   ]
  },
  {
   "cell_type": "code",
   "execution_count": 31,
   "id": "42952d27-bc24-4b73-bb07-896d2d210357",
   "metadata": {},
   "outputs": [],
   "source": [
    "label = pd.read_csv(\"./basketball_dataset/train/_annotations.csv\").set_index('filename')\n",
    "label = label.sort_values(by=['filename'])"
   ]
  },
  {
   "cell_type": "code",
   "execution_count": 38,
   "id": "f481438f-dd2a-461e-8cc7-de0dfc319b0f",
   "metadata": {},
   "outputs": [
    {
     "name": "stdout",
     "output_type": "stream",
     "text": [
      "97\n"
     ]
    }
   ],
   "source": [
    "davis_labels = label[label.index.str.startswith('davis')]\n",
    "high2lights_labels = label[label.index.str.startswith('high2lights')]\n",
    "highlights_labels = label[label.index.str.startswith('highlights')]\n",
    "madeshot_labels = label[label.index.str.startswith('madeshot')]"
   ]
  },
  {
   "cell_type": "code",
   "execution_count": 57,
   "id": "c5338c69-b7fe-4b68-94ad-54547b5e9b7a",
   "metadata": {},
   "outputs": [],
   "source": [
    "davis_filepath = \"./basketball_dataset/davis\"\n",
    "\n",
    "davis_labels = move_labels_and_remove_missing_files(davis_filepath, davis_labels)\n",
    "create_label_file(davis_filepath, davis_labels)"
   ]
  },
  {
   "cell_type": "code",
   "execution_count": 58,
   "id": "7550cbee-e1a5-41bd-801f-363b329e51c4",
   "metadata": {},
   "outputs": [],
   "source": [
    "high2lights_filepath = \"./basketball_dataset/high2lights\"\n",
    "\n",
    "high2lights_labels = move_labels_and_remove_missing_files(high2lights_filepath, high2lights_labels)\n",
    "create_label_file(high2lights_filepath, high2lights_labels)"
   ]
  },
  {
   "cell_type": "code",
   "execution_count": 59,
   "id": "b566f524-fa07-4a5a-8d31-30dfe2822597",
   "metadata": {},
   "outputs": [],
   "source": [
    "highlights_filepath = \"./basketball_dataset/highlights\"\n",
    "\n",
    "highlights_labels = move_labels_and_remove_missing_files(highlights_filepath, highlights_labels)\n",
    "create_label_file(highlights_filepath, highlights_labels)"
   ]
  },
  {
   "cell_type": "code",
   "execution_count": 60,
   "id": "40ee5072-59a8-4e26-a122-52a483b606de",
   "metadata": {},
   "outputs": [],
   "source": [
    "madeshot_filepath = \"./basketball_dataset/madeshot\"\n",
    "\n",
    "madeshot_labels = move_labels_and_remove_missing_files(madeshot_filepath, madeshot_labels)\n",
    "create_label_file(madeshot_filepath, madeshot_labels)"
   ]
  },
  {
   "cell_type": "code",
   "execution_count": null,
   "id": "22c1973e-44ff-40fc-b9b9-f78872ea7920",
   "metadata": {},
   "outputs": [],
   "source": []
  }
 ],
 "metadata": {
  "kernelspec": {
   "display_name": "Python 3 (ipykernel)",
   "language": "python",
   "name": "python3"
  },
  "language_info": {
   "codemirror_mode": {
    "name": "ipython",
    "version": 3
   },
   "file_extension": ".py",
   "mimetype": "text/x-python",
   "name": "python",
   "nbconvert_exporter": "python",
   "pygments_lexer": "ipython3",
   "version": "3.11.0"
  }
 },
 "nbformat": 4,
 "nbformat_minor": 5
}
