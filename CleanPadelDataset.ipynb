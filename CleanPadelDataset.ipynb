{
 "cells": [
  {
   "cell_type": "code",
   "execution_count": 1,
   "id": "bf125bfc-38c2-4078-b137-334f5dbcfe9d",
   "metadata": {},
   "outputs": [],
   "source": [
    "%load_ext autoreload\n",
    "%autoreload 2"
   ]
  },
  {
   "cell_type": "code",
   "execution_count": 2,
   "id": "69ceb8d5-f9a3-40a1-a205-c8b8aecd1e43",
   "metadata": {},
   "outputs": [],
   "source": [
    "def rename_labels_and_files(file_path, labels):\n",
    "    files = [f for f in os.listdir(file_path) if f.endswith('jpg')]\n",
    "    for f in files:\n",
    "        filename = f[:f.index(\"_jpg.rf\")]\n",
    "        im_num = filename[filename.index(\"_\")+1:]\n",
    "        padded_filename = im_num.zfill(4) + \".jpg\"\n",
    "        os.rename(os.path.join(file_path, f), os.path.join(file_path, padded_filename))\n",
    "        labels = labels.rename(index={f: padded_filename})\n",
    "\n",
    "    return labels"
   ]
  },
  {
   "cell_type": "code",
   "execution_count": 3,
   "id": "93184d2a-cb35-42b4-91fb-c69cdf51a9a4",
   "metadata": {},
   "outputs": [],
   "source": [
    "def create_label_file(file_path, orig_df):\n",
    "    labels = orig_df.copy(deep=True)\n",
    "    labels['visibility'] = 1\n",
    "    \n",
    "    x_coord = (labels.loc[:, 'xmin'] + labels.loc[:, 'xmax']) // 2\n",
    "    labels['x-coordinate'] = x_coord\n",
    "\n",
    "    y_coord = (labels.loc[:, 'ymin'] + labels.loc[:, 'ymax']) // 2\n",
    "    labels['y-coordinate'] = y_coord\n",
    "\n",
    "    labels['status'] = 0\n",
    "\n",
    "    labels.index.names = ['file name']\n",
    "    labels = labels.drop(['width', 'height', 'class', 'xmin', 'ymin', 'xmax', 'ymax'], axis=1)\n",
    "    labels = labels.sort_index(ascending=True)\n",
    "\n",
    "    labels.to_csv(file_path + \"/Label.csv\", index=True)"
   ]
  },
  {
   "cell_type": "code",
   "execution_count": null,
   "id": "19398fc3-d97e-477a-95d0-70a4c1b334d1",
   "metadata": {},
   "outputs": [],
   "source": [
    "def clean_train_files(train_path):\n",
    "    train_list = [f for f in sorted(os.listdir(train_path)) if f.endswith('jpg')]\n",
    "\n",
    "    train_labels = pd.read_csv(os.path.join(train_path, '_annotations.csv'))\n",
    "    train_labels = train_labels.set_index('filename')\n",
    "\n",
    "    train_labels = train_labels.drop([\"frame_398_jpg.rf.5b6dcedcdc86b09ca3940aa7652840b7.jpg\", \"frame_398_jpg.rf.6c041dac651680ca34b010590d505f06.jpg\"], errors='ignore')\n",
    "    train_labels = train_labels.drop([\"frame_631_jpg.rf.4ae2683c895698b0d8f742614e873a48.jpg\", \"frame_631_jpg.rf.7364ef9fd1fa4c803d034c9650b3a861.jpg\"], errors='ignore')\n",
    "    train_labels = train_labels.drop([\"frame_209_jpg.rf.3852b93b863602394c7eac1afe1c8da5.jpg\", \"frame_209_jpg.rf.e49699f0471fe67adf4ee65a358bdb8f.jpg\", \"frame_209_jpg.rf.f465b65ee5aa9fb93a26a47d633b6820.jpg\"], errors='ignore')\n",
    "    train_labels = train_labels.drop([\"frame_358_jpg.rf.7a0a27f461768c90df6691ce70686f7a.jpg\", \"frame_358_jpg.rf.5394cdea78a07f5a75c0b14a21c1a977.jpg\", \"frame_358_jpg.rf.e84af07b7d623ef3f3521b48a81fd896.jpg\"], errors='ignore')\n",
    "    train_labels = train_labels.drop([\"frame_380_jpg.rf.4acb5a211a462551c12e4994b8ec1715.jpg\", \"frame_380_jpg.rf.4f85f4ec42e79bd5cedd1368e432645c.jpg\", \"frame_380_jpg.rf.d8e813d1d166454f3258b887e810df63.jpg\"], errors='ignore')\n",
    "    train_labels = train_labels.drop([\"frame_655_jpg.rf.8a8c255e655b5aa9a603c54c8a9e8abf.jpg\", \"frame_655_jpg.rf.a8342a39e5d4e002e46344ced62ca8c5.jpg\", \"frame_655_jpg.rf.ae547a60531710977cb530ed9009b71e.jpg\"], errors='ignore')\n",
    "    \n",
    "    num_files = len(train_list)\n",
    "\n",
    "    i = 0\n",
    "    while i < num_files - 2:\n",
    "        candidate_1 = train_list[i + 0]\n",
    "        candidate_2 = train_list[i + 1]\n",
    "        candidate_3 = train_list[i + 2]\n",
    "        intensities = [candidate_1, candidate_2, candidate_3]\n",
    "        rand_im = intensities[0]\n",
    "\n",
    "        if rand_im not in train_labels.index:\n",
    "            if intensities[1] in train_labels.index:\n",
    "                temp_row = train_labels.loc[intensities[1]]\n",
    "                temp_row.rename(index={intensities[1]: rand_im})\n",
    "                train_labels = pd.concat([train_labels, temp_row], ignore_index=True)\n",
    "            elif intensities[2] in train_labels.index:\n",
    "                temp_row = train_labels.loc[intensities[2]]\n",
    "                temp_row.rename(index={intensities[2]: rand_im})\n",
    "                train_labels = pd.concat([train_labels, temp_row], ignore_index=True)\n",
    "            else:\n",
    "                print(\"error inserting rand_im\")\n",
    "\n",
    "        if intensities[1] in train_labels.index:\n",
    "            train_labels = train_labels.drop(intensities[1])\n",
    "        if intensities[2] in train_labels.index:\n",
    "            train_labels = train_labels.drop(intensities[2])\n",
    "\n",
    "        if os.path.exists(os.path.join(train_path, intensities[1])):\n",
    "            os.remove(os.path.join(train_path, intensities[1]))\n",
    "        if os.path.exists(os.path.join(train_path, intensities[2])):\n",
    "            os.remove(os.path.join(train_path, intensities[2]))\n",
    "\n",
    "        i += 3\n",
    "\n",
    "    train_labels = rename_labels_and_files(train_path, train_labels)\n",
    "    return train_labels"
   ]
  },
  {
   "cell_type": "code",
   "execution_count": null,
   "id": "95d99e16-00a1-4f4d-a3f7-3c44b7bf89f5",
   "metadata": {},
   "outputs": [],
   "source": [
    "train_path = \"padel_dataset/train\"\n",
    "train_labels = clean_train_files(train_path)"
   ]
  },
  {
   "cell_type": "code",
   "execution_count": null,
   "id": "59eec65b-0edd-40ff-8d41-0bb38fb3461f",
   "metadata": {},
   "outputs": [],
   "source": [
    "create_label_file(train_path, train_labels)"
   ]
  },
  {
   "cell_type": "code",
   "execution_count": null,
   "id": "1e20a56a-1201-4a79-ada7-b8173f4a841a",
   "metadata": {},
   "outputs": [],
   "source": [
    "val_path = \"padel_dataset/valid\"\n",
    "\n",
    "val_labels = pd.read_csv(os.path.join(val_path, '_annotations.csv'))\n",
    "val_labels = val_labels.set_index('filename')\n",
    "\n",
    "val_files = [f for f in os.listdir(val_path) if f.endswith('jpg')]\n",
    "for f in val_files:\n",
    "    if f not in val_labels.index:\n",
    "        print(f\"{f} index not found in labels; removing file\")\n",
    "        os.remove(os.path.join(val_path, f))\n",
    "\n",
    "val_labels = rename_labels_and_files(val_path, val_labels)\n",
    "\n",
    "create_label_file(val_path, val_labels)"
   ]
  },
  {
   "cell_type": "code",
   "execution_count": null,
   "id": "c38608b9-263d-43be-918f-0ba2b64d07f0",
   "metadata": {},
   "outputs": [],
   "source": [
    "test_path = \"padel_dataset/test\"\n",
    "\n",
    "test_labels = pd.read_csv(os.path.join(test_path, '_annotations.csv'))\n",
    "test_labels = test_labels.set_index('filename')\n",
    "\n",
    "test_files = [f for f in os.listdir(test_path) if f.endswith('jpg')]\n",
    "for f in test_files:\n",
    "    if f not in test_labels.index:\n",
    "        print(f\"{f} index not found in labels; removing file\")\n",
    "        os.remove(os.path.join(test_path, f))\n",
    "\n",
    "test_labels = rename_labels_and_files(test_path, test_labels)\n",
    "\n",
    "create_label_file(test_path, test_labels)"
   ]
  },
  {
   "cell_type": "code",
   "execution_count": null,
   "id": "b6988d8c-9513-438c-8344-001ce6153575",
   "metadata": {},
   "outputs": [],
   "source": [
    "val_labels = pd.read_csv('padel_dataset/valid/Label.csv')\n",
    "test_labels = pd.read_csv('padel_dataset/test/Label.csv')\n",
    "\n",
    "combined_labels = pd.concat([val_labels, test_labels], ignore_index=True).set_index('file name')\n",
    "combined_labels = combined_labels.sort_index(ascending=True)\n",
    "\n",
    "combined_labels.to_csv('./padel_dataset/final_testing/Label.csv', index=True)\n",
    "\n",
    "# print(combined_labels.to_string())"
   ]
  }
 ],
 "metadata": {
  "kernelspec": {
   "display_name": "Python 3 (ipykernel)",
   "language": "python",
   "name": "python3"
  },
  "language_info": {
   "codemirror_mode": {
    "name": "ipython",
    "version": 3
   },
   "file_extension": ".py",
   "mimetype": "text/x-python",
   "name": "python",
   "nbconvert_exporter": "python",
   "pygments_lexer": "ipython3",
   "version": "3.11.0"
  }
 },
 "nbformat": 4,
 "nbformat_minor": 5
}
