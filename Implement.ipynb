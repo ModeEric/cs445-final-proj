{
 "cells": [
  {
   "cell_type": "code",
   "execution_count": 3,
   "id": "665f3156",
   "metadata": {},
   "outputs": [],
   "source": [
    "import sys\n",
    "import os\n",
    "project_root = os.getcwd()  # This will use the current working directory\n",
    "sys.path.append(os.path.join(project_root, 'Code'))\n",
    "from utils import *\n",
    "from data import *\n",
    "from model import *\n",
    "from train import *\n",
    "from validate import *\n",
    "from visualization import *"
   ]
  },
  {
   "cell_type": "code",
   "execution_count": 4,
   "id": "cf4cb9cd",
   "metadata": {},
   "outputs": [
    {
     "name": "stdout",
     "output_type": "stream",
     "text": [
      "Using device: cuda\n"
     ]
    }
   ],
   "source": [
    "device = torch.device('cuda' if torch.cuda.is_available() else 'cpu')\n",
    "print(f'Using device: {device}')"
   ]
  },
  {
   "cell_type": "markdown",
   "id": "1af85f34",
   "metadata": {},
   "source": [
    "## Data"
   ]
  },
  {
   "cell_type": "code",
   "execution_count": 5,
   "id": "f6883d05",
   "metadata": {},
   "outputs": [],
   "source": [
    "batch_size = 16\n",
    "resize_size=(128,256)\n",
    "preprocess_path = './Dataset_preprocess'\n",
    "base_path = './Dataset'\n",
    "frame_info = 3\n",
    "\n",
    "full_dataset = TrackNetDataset(base_path, resize_size=resize_size)\n",
    "train_size = int(0.8 * len(full_dataset))\n",
    "val_size = int(0.15 * len(full_dataset))\n",
    "test_size = len(full_dataset) - train_size - val_size\n",
    "train_dataset, val_dataset, test_dataset = torch.utils.data.random_split(full_dataset, [train_size, val_size, test_size])\n",
    "train_loader = torch.utils.data.DataLoader(\n",
    "    train_dataset,\n",
    "    batch_size=batch_size,\n",
    "    shuffle=True,\n",
    "    num_workers=0,\n",
    "    pin_memory=True\n",
    ")\n",
    "val_loader = torch.utils.data.DataLoader(\n",
    "    val_dataset,\n",
    "    batch_size=batch_size,\n",
    "    shuffle=False,\n",
    "    num_workers=0,\n",
    "    pin_memory=True\n",
    ")\n",
    "test_loader = torch.utils.data.DataLoader(\n",
    "    test_dataset,\n",
    "    batch_size=batch_size,\n",
    "    shuffle=False,\n",
    "    num_workers=0,\n",
    "    pin_memory=True\n",
    ")"
   ]
  },
  {
   "cell_type": "markdown",
   "id": "1fa00b6f",
   "metadata": {},
   "source": [
    "## Train"
   ]
  },
  {
   "cell_type": "code",
   "execution_count": 6,
   "id": "07a75aaf",
   "metadata": {},
   "outputs": [],
   "source": [
    "epoch_num = 50\n",
    "best_lev_dist = 1500\n",
    "model_save_name = 'model_best_eca.pth'\n",
    "use_eca =True"
   ]
  },
  {
   "cell_type": "code",
   "execution_count": 7,
   "id": "f0af3115",
   "metadata": {},
   "outputs": [
    {
     "name": "stderr",
     "output_type": "stream",
     "text": [
      "c:\\Users\\karby\\anaconda3\\envs\\ml_env\\lib\\site-packages\\torch\\optim\\lr_scheduler.py:62: UserWarning: The verbose parameter is deprecated. Please use get_last_lr() to access the learning rate.\n",
      "  warnings.warn(\n"
     ]
    }
   ],
   "source": [
    "# Tracknet\n",
    "gc.collect()\n",
    "torch.cuda.empty_cache()\n",
    "model = BallTrackerNet(use_eca=use_eca).to(device)\n",
    "optimizer = optim.Adam(model.parameters(), lr=1e-2)\n",
    "criterion = nn.CrossEntropyLoss()\n",
    "scheduler = torch.optim.lr_scheduler.ReduceLROnPlateau(optimizer, factor=0.95, patience=1, verbose=True, threshold=1e-2)"
   ]
  },
  {
   "cell_type": "code",
   "execution_count": null,
   "id": "9b4778b9",
   "metadata": {},
   "outputs": [],
   "source": [
    "for epoch in range(0, epoch_num):\n",
    "    print(\"\\nEpoch: {}/{}\".format(epoch+1, epoch_num))\n",
    "    # Call train and validate \n",
    "    train_loss = train(model, train_loader, optimizer, criterion)\n",
    "    val_loss, val_dist, precision, recall, f1 = validate(model, val_loader, criterion, min_dist=2)\n",
    "    scheduler.step(val_dist)\n",
    "    print(\"\\nEpoch {}/{}: \\t Train Loss {:.04f} \".format(\n",
    "          epoch + 1,\n",
    "          epoch_num,\n",
    "          train_loss\n",
    "          ))\n",
    "    print(\"Val loss {:.04f} \\t Val dist {:.04f} \\t precision: {:.04f} \\t recall: {:.04f}\\t f1: {:.04f}\".format(\n",
    "          val_loss, val_dist, precision, recall, f1\n",
    "          ))\n",
    "    torch.cuda.empty_cache()\n",
    "    if val_dist <= best_lev_dist:\n",
    "        best_lev_dist = val_dist\n",
    "        # Save your model checkpoint here\n",
    "        print(\"Saving model\")\n",
    "        torch.save(model.state_dict(), model_save_name)"
   ]
  },
  {
   "cell_type": "markdown",
   "id": "da13da47",
   "metadata": {},
   "source": [
    "## Test"
   ]
  },
  {
   "cell_type": "code",
   "execution_count": 10,
   "id": "a99dd7ed",
   "metadata": {},
   "outputs": [
    {
     "name": "stderr",
     "output_type": "stream",
     "text": [
      "C:\\Users\\karby\\AppData\\Local\\Temp\\ipykernel_25444\\717610270.py:3: FutureWarning: You are using `torch.load` with `weights_only=False` (the current default value), which uses the default pickle module implicitly. It is possible to construct malicious pickle data which will execute arbitrary code during unpickling (See https://github.com/pytorch/pytorch/blob/main/SECURITY.md#untrusted-models for more details). In a future release, the default value for `weights_only` will be flipped to `True`. This limits the functions that could be executed during unpickling. Arbitrary objects will no longer be allowed to be loaded via this mode unless they are explicitly allowlisted by the user via `torch.serialization.add_safe_globals`. We recommend you start setting `weights_only=True` for any use case where you don't have full control of the loaded file. Please open an issue on GitHub for any issues related to this experimental feature.\n",
      "  model.load_state_dict(torch.load(model_save_name))\n",
      "                                                                                                                 "
     ]
    },
    {
     "name": "stdout",
     "output_type": "stream",
     "text": [
      "Val loss 0.0327 \t Val dist 0.8197 \t precision: 0.9874 \t recall: 1.0000\t f1: 0.9936\n"
     ]
    },
    {
     "name": "stderr",
     "output_type": "stream",
     "text": [
      "\r"
     ]
    }
   ],
   "source": [
    "model = BallTrackerNet(use_eca=use_eca).to(device)  # Ensure this matches your model\n",
    "# Load the model state_dict\n",
    "model.load_state_dict(torch.load(model_save_name))\n",
    "model.to(device)\n",
    "# Set model to evaluation mode\n",
    "test_loss, test_dist, precision, recall, f1 = validate(model, test_loader, criterion, min_dist=2)\n",
    "print(\"Val loss {:.04f} \\t Val dist {:.04f} \\t precision: {:.04f} \\t recall: {:.04f}\\t f1: {:.04f}\".format(\n",
    "          test_loss, test_dist, precision, recall, f1\n",
    "          ))\n",
    "torch.cuda.empty_cache()"
   ]
  },
  {
   "cell_type": "markdown",
   "id": "747b4d34",
   "metadata": {},
   "source": [
    "## Visualization"
   ]
  },
  {
   "cell_type": "code",
   "execution_count": 11,
   "id": "e3eff998",
   "metadata": {},
   "outputs": [
    {
     "name": "stdout",
     "output_type": "stream",
     "text": [
      "Saved comparison frames to ./visualizations/\n"
     ]
    }
   ],
   "source": [
    "visualize_predictions(model, test_loader, output_dir=\"visualizations\", device=device)\n",
    "print(\"Saved comparison frames to ./visualizations/\")"
   ]
  }
 ],
 "metadata": {
  "kernelspec": {
   "display_name": "ml_env",
   "language": "python",
   "name": "python3"
  },
  "language_info": {
   "codemirror_mode": {
    "name": "ipython",
    "version": 3
   },
   "file_extension": ".py",
   "mimetype": "text/x-python",
   "name": "python",
   "nbconvert_exporter": "python",
   "pygments_lexer": "ipython3",
   "version": "3.9.6"
  }
 },
 "nbformat": 4,
 "nbformat_minor": 5
}
