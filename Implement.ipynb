{
 "cells": [
  {
   "cell_type": "code",
   "execution_count": 12,
   "id": "665f3156",
   "metadata": {},
   "outputs": [],
   "source": [
    "import sys\n",
    "import os\n",
    "project_root = os.getcwd()  # This will use the current working directory\n",
    "sys.path.append(os.path.join(project_root, 'Code'))\n",
    "from utils import *\n",
    "from data import *\n",
    "from model import *\n",
    "from train import *\n",
    "from validate import *\n",
    "from visualization import *"
   ]
  },
  {
   "cell_type": "code",
   "execution_count": 13,
   "id": "cf4cb9cd",
   "metadata": {},
   "outputs": [
    {
     "name": "stdout",
     "output_type": "stream",
     "text": [
      "Using device: cuda\n"
     ]
    }
   ],
   "source": [
    "device = torch.device('cuda' if torch.cuda.is_available() else 'cpu')\n",
    "print(f'Using device: {device}')"
   ]
  },
  {
   "cell_type": "markdown",
   "id": "1af85f34",
   "metadata": {},
   "source": [
    "## Data"
   ]
  },
  {
   "cell_type": "code",
   "execution_count": 3,
   "id": "f6883d05",
   "metadata": {},
   "outputs": [],
   "source": [
    "batch_size = 16\n",
    "resize_size=(128,256)\n",
    "preprocess_path = './Dataset_preprocess'\n",
    "base_path = './Dataset'\n",
    "frame_info = 3\n",
    "torch.manual_seed(42)\n",
    "full_dataset = TrackNetDataset(base_path, resize_size=resize_size)\n",
    "train_size = int(0.8 * len(full_dataset))\n",
    "val_size = int(0.15 * len(full_dataset))\n",
    "test_size = len(full_dataset) - train_size - val_size\n",
    "train_dataset, val_dataset, test_dataset = torch.utils.data.random_split(full_dataset, [train_size, val_size, test_size])\n",
    "train_loader = torch.utils.data.DataLoader(\n",
    "    train_dataset,\n",
    "    batch_size=batch_size,\n",
    "    shuffle=True,\n",
    "    num_workers=0,\n",
    "    pin_memory=True\n",
    ")\n",
    "val_loader = torch.utils.data.DataLoader(\n",
    "    val_dataset,\n",
    "    batch_size=batch_size,\n",
    "    shuffle=False,\n",
    "    num_workers=0,\n",
    "    pin_memory=True\n",
    ")\n",
    "test_loader = torch.utils.data.DataLoader(\n",
    "    test_dataset,\n",
    "    batch_size=batch_size,\n",
    "    shuffle=False,\n",
    "    num_workers=0,\n",
    "    pin_memory=True\n",
    ")"
   ]
  },
  {
   "cell_type": "markdown",
   "id": "1fa00b6f",
   "metadata": {},
   "source": [
    "## Train"
   ]
  },
  {
   "cell_type": "code",
   "execution_count": 4,
   "id": "07a75aaf",
   "metadata": {},
   "outputs": [],
   "source": [
    "epoch_num = 50\n",
    "best_lev_dist = 1500\n",
    "model_save_name = 'model_best_eca1.pth'\n",
    "use_eca =True"
   ]
  },
  {
   "cell_type": "code",
   "execution_count": 5,
   "id": "f0af3115",
   "metadata": {},
   "outputs": [
    {
     "name": "stderr",
     "output_type": "stream",
     "text": [
      "c:\\Users\\karby\\anaconda3\\envs\\ml_env\\lib\\site-packages\\torch\\optim\\lr_scheduler.py:62: UserWarning: The verbose parameter is deprecated. Please use get_last_lr() to access the learning rate.\n",
      "  warnings.warn(\n"
     ]
    }
   ],
   "source": [
    "# Tracknet\n",
    "gc.collect()\n",
    "torch.cuda.empty_cache()\n",
    "model = BallTrackerNet(use_eca=use_eca).to(device)\n",
    "optimizer = optim.Adam(model.parameters(), lr=1e-2)\n",
    "criterion = nn.CrossEntropyLoss()\n",
    "scheduler = torch.optim.lr_scheduler.ReduceLROnPlateau(optimizer, factor=0.95, patience=1, verbose=True, threshold=1e-2)"
   ]
  },
  {
   "cell_type": "code",
   "execution_count": 7,
   "id": "ef5bc04b",
   "metadata": {},
   "outputs": [],
   "source": [
    "train_loss_res = []\n",
    "val_loss_res = []\n",
    "val_dist_res =[]\n",
    "precision_res = []\n",
    "recall_res = []\n",
    "f1_res = []"
   ]
  },
  {
   "cell_type": "code",
   "execution_count": null,
   "id": "9b4778b9",
   "metadata": {},
   "outputs": [
    {
     "name": "stdout",
     "output_type": "stream",
     "text": [
      "\n",
      "Epoch: 1/50\n"
     ]
    },
    {
     "name": "stderr",
     "output_type": "stream",
     "text": [
      "                                                                                                                        \r"
     ]
    },
    {
     "name": "stdout",
     "output_type": "stream",
     "text": [
      "\n",
      "Epoch 1/50: \t Train Loss 1.0466 \n",
      "Val loss 0.1308 \t Val dist 133.5867 \t precision: 0.0000 \t recall: 0.0000\t f1: 0.0000\n",
      "Saving model\n",
      "\n",
      "Epoch: 2/50\n"
     ]
    },
    {
     "name": "stderr",
     "output_type": "stream",
     "text": [
      "                                                                                                                        \r"
     ]
    },
    {
     "name": "stdout",
     "output_type": "stream",
     "text": [
      "\n",
      "Epoch 2/50: \t Train Loss 0.1095 \n",
      "Val loss 0.0973 \t Val dist 133.5867 \t precision: 0.0000 \t recall: 0.0000\t f1: 0.0000\n",
      "Saving model\n",
      "\n",
      "Epoch: 3/50\n"
     ]
    },
    {
     "name": "stderr",
     "output_type": "stream",
     "text": [
      "                                                                                                                        \r"
     ]
    },
    {
     "name": "stdout",
     "output_type": "stream",
     "text": [
      "\n",
      "Epoch 3/50: \t Train Loss 0.0936 \n",
      "Val loss 0.0896 \t Val dist 133.5867 \t precision: 0.0000 \t recall: 0.0000\t f1: 0.0000\n",
      "Saving model\n",
      "\n",
      "Epoch: 4/50\n"
     ]
    },
    {
     "name": "stderr",
     "output_type": "stream",
     "text": [
      "                                                                                                                        \r"
     ]
    },
    {
     "name": "stdout",
     "output_type": "stream",
     "text": [
      "\n",
      "Epoch 4/50: \t Train Loss 0.0881 \n",
      "Val loss 0.0865 \t Val dist 133.5867 \t precision: 0.0000 \t recall: 0.0000\t f1: 0.0000\n",
      "Saving model\n",
      "\n",
      "Epoch: 5/50\n"
     ]
    },
    {
     "name": "stderr",
     "output_type": "stream",
     "text": [
      "                                                                                                                           \r"
     ]
    },
    {
     "name": "stdout",
     "output_type": "stream",
     "text": [
      "\n",
      "Epoch 5/50: \t Train Loss 0.0682 \n",
      "Val loss 0.0499 \t Val dist 36.4178 \t precision: 0.9232 \t recall: 0.7419\t f1: 0.8227\n",
      "Saving model\n",
      "\n",
      "Epoch: 6/50\n"
     ]
    },
    {
     "name": "stderr",
     "output_type": "stream",
     "text": [
      "                                                                                                                                 \r"
     ]
    },
    {
     "name": "stdout",
     "output_type": "stream",
     "text": [
      "\n",
      "Epoch 6/50: \t Train Loss 0.0457 \n",
      "Val loss 1263960.9515 \t Val dist 27.6233 \t precision: 0.8917 \t recall: 0.7922\t f1: 0.8390\n",
      "Saving model\n",
      "\n",
      "Epoch: 7/50\n"
     ]
    },
    {
     "name": "stderr",
     "output_type": "stream",
     "text": [
      "                                                                                                                                     \r"
     ]
    },
    {
     "name": "stdout",
     "output_type": "stream",
     "text": [
      "\n",
      "Epoch 7/50: \t Train Loss 0.0406 \n",
      "Val loss 90287908272.9099 \t Val dist 10.8571 \t precision: 0.9245 \t recall: 0.9507\t f1: 0.9374\n",
      "Saving model\n",
      "\n",
      "Epoch: 8/50\n"
     ]
    },
    {
     "name": "stderr",
     "output_type": "stream",
     "text": [
      "                                                                                                                                 \r"
     ]
    },
    {
     "name": "stdout",
     "output_type": "stream",
     "text": [
      "\n",
      "Epoch 8/50: \t Train Loss 0.0375 \n",
      "Val loss 9259071.6910 \t Val dist 14.5827 \t precision: 0.9612 \t recall: 0.9046\t f1: 0.9321\n",
      "\n",
      "Epoch: 9/50\n"
     ]
    },
    {
     "name": "stderr",
     "output_type": "stream",
     "text": [
      "                                                                                                                                 \r"
     ]
    },
    {
     "name": "stdout",
     "output_type": "stream",
     "text": [
      "\n",
      "Epoch 9/50: \t Train Loss 0.0354 \n",
      "Val loss 87617060.3070 \t Val dist 14.2857 \t precision: 0.9648 \t recall: 0.9137\t f1: 0.9385\n",
      "\n",
      "Epoch: 10/50\n"
     ]
    },
    {
     "name": "stderr",
     "output_type": "stream",
     "text": [
      "                                                                                                                                 \r"
     ]
    },
    {
     "name": "stdout",
     "output_type": "stream",
     "text": [
      "\n",
      "Epoch 10/50: \t Train Loss 0.0335 \n",
      "Val loss 46667233.8180 \t Val dist 11.3459 \t precision: 0.9777 \t recall: 0.9295\t f1: 0.9530\n",
      "\n",
      "Epoch: 11/50\n"
     ]
    },
    {
     "name": "stderr",
     "output_type": "stream",
     "text": [
      "                                                                                                                                   \r"
     ]
    },
    {
     "name": "stdout",
     "output_type": "stream",
     "text": [
      "\n",
      "Epoch 11/50: \t Train Loss 0.0326 \n",
      "Val loss 496803009.7009 \t Val dist 10.0403 \t precision: 0.9626 \t recall: 0.9391\t f1: 0.9507\n",
      "Saving model\n",
      "\n",
      "Epoch: 12/50\n"
     ]
    },
    {
     "name": "stderr",
     "output_type": "stream",
     "text": [
      "                                                                                                                                  \r"
     ]
    },
    {
     "name": "stdout",
     "output_type": "stream",
     "text": [
      "\n",
      "Epoch 12/50: \t Train Loss 0.0314 \n",
      "Val loss 2818339510.5726 \t Val dist 5.2535 \t precision: 0.9575 \t recall: 0.9761\t f1: 0.9667\n",
      "Saving model\n",
      "\n",
      "Epoch: 13/50\n"
     ]
    },
    {
     "name": "stderr",
     "output_type": "stream",
     "text": [
      "                                                                                                                                    \r"
     ]
    },
    {
     "name": "stdout",
     "output_type": "stream",
     "text": [
      "\n",
      "Epoch 13/50: \t Train Loss 0.0305 \n",
      "Val loss 70273849201.7749 \t Val dist 13.1611 \t precision: 0.9857 \t recall: 0.9108\t f1: 0.9468\n",
      "\n",
      "Epoch: 14/50\n"
     ]
    },
    {
     "name": "stderr",
     "output_type": "stream",
     "text": [
      "                                                                                                                                     \r"
     ]
    },
    {
     "name": "stdout",
     "output_type": "stream",
     "text": [
      "\n",
      "Epoch 14/50: \t Train Loss 0.0298 \n",
      "Val loss 893661334565.2261 \t Val dist 9.1294 \t precision: 0.9775 \t recall: 0.9416\t f1: 0.9592\n",
      "\n",
      "Epoch: 15/50\n"
     ]
    },
    {
     "name": "stderr",
     "output_type": "stream",
     "text": [
      "                                                                                                                                   \r"
     ]
    },
    {
     "name": "stdout",
     "output_type": "stream",
     "text": [
      "\n",
      "Epoch 15/50: \t Train Loss 0.0288 \n",
      "Val loss 10015489730.6821 \t Val dist 6.7534 \t precision: 0.9757 \t recall: 0.9577\t f1: 0.9666\n",
      "\n",
      "Epoch: 16/50\n"
     ]
    },
    {
     "name": "stderr",
     "output_type": "stream",
     "text": [
      "                                                                                                                                  \r"
     ]
    },
    {
     "name": "stdout",
     "output_type": "stream",
     "text": [
      "\n",
      "Epoch 16/50: \t Train Loss 0.0283 \n",
      "Val loss 78071650093.6966 \t Val dist 3.3679 \t precision: 0.9690 \t recall: 0.9869\t f1: 0.9779\n",
      "Saving model\n",
      "\n",
      "Epoch: 17/50\n"
     ]
    },
    {
     "name": "stderr",
     "output_type": "stream",
     "text": [
      "                                                                                                                                 \r"
     ]
    },
    {
     "name": "stdout",
     "output_type": "stream",
     "text": [
      "\n",
      "Epoch 17/50: \t Train Loss 0.0276 \n",
      "Val loss 4730960617.1850 \t Val dist 3.0158 \t precision: 0.9556 \t recall: 0.9960\t f1: 0.9754\n",
      "Saving model\n",
      "\n",
      "Epoch: 18/50\n"
     ]
    },
    {
     "name": "stderr",
     "output_type": "stream",
     "text": [
      "                                                                                                                            \r"
     ]
    },
    {
     "name": "stdout",
     "output_type": "stream",
     "text": [
      "\n",
      "Epoch 18/50: \t Train Loss 0.0271 \n",
      "Val loss 33900.4359 \t Val dist 2.9937 \t precision: 0.9698 \t recall: 0.9909\t f1: 0.9802\n",
      "Saving model\n",
      "\n",
      "Epoch: 19/50\n"
     ]
    },
    {
     "name": "stderr",
     "output_type": "stream",
     "text": [
      "                                                                                                                                \r"
     ]
    },
    {
     "name": "stdout",
     "output_type": "stream",
     "text": [
      "\n",
      "Epoch 19/50: \t Train Loss 0.0264 \n",
      "Val loss 39376334.1991 \t Val dist 6.8974 \t precision: 0.9801 \t recall: 0.9564\t f1: 0.9681\n",
      "\n",
      "Epoch: 20/50\n"
     ]
    },
    {
     "name": "stderr",
     "output_type": "stream",
     "text": [
      "                                                                                                                              \r"
     ]
    },
    {
     "name": "stdout",
     "output_type": "stream",
     "text": [
      "\n",
      "Epoch 20/50: \t Train Loss 0.0255 \n",
      "Val loss 3230013.5889 \t Val dist 2.7408 \t precision: 0.9801 \t recall: 0.9903\t f1: 0.9852\n",
      "Saving model\n",
      "\n",
      "Epoch: 21/50\n"
     ]
    },
    {
     "name": "stderr",
     "output_type": "stream",
     "text": [
      "                                                                                                                           \r"
     ]
    },
    {
     "name": "stdout",
     "output_type": "stream",
     "text": [
      "\n",
      "Epoch 21/50: \t Train Loss 0.0251 \n",
      "Val loss 3846.3808 \t Val dist 2.0674 \t precision: 0.9794 \t recall: 0.9939\t f1: 0.9866\n",
      "Saving model\n",
      "\n",
      "Epoch: 22/50\n"
     ]
    },
    {
     "name": "stderr",
     "output_type": "stream",
     "text": [
      "                                                                                                                           \r"
     ]
    },
    {
     "name": "stdout",
     "output_type": "stream",
     "text": [
      "\n",
      "Epoch 22/50: \t Train Loss 0.0245 \n",
      "Val loss 1795.1266 \t Val dist 2.3324 \t precision: 0.9791 \t recall: 0.9932\t f1: 0.9861\n",
      "\n",
      "Epoch: 23/50\n"
     ]
    },
    {
     "name": "stderr",
     "output_type": "stream",
     "text": [
      "                                                                                                                         \r"
     ]
    },
    {
     "name": "stdout",
     "output_type": "stream",
     "text": [
      "\n",
      "Epoch 23/50: \t Train Loss 0.0242 \n",
      "Val loss 55.7928 \t Val dist 2.7502 \t precision: 0.9822 \t recall: 0.9892\t f1: 0.9857\n",
      "\n",
      "Epoch: 24/50\n"
     ]
    },
    {
     "name": "stderr",
     "output_type": "stream",
     "text": [
      "                                                                                                                            \r"
     ]
    },
    {
     "name": "stdout",
     "output_type": "stream",
     "text": [
      "\n",
      "Epoch 24/50: \t Train Loss 0.0234 \n",
      "Val loss 16767.9548 \t Val dist 4.2303 \t precision: 0.9845 \t recall: 0.9774\t f1: 0.9809\n",
      "\n",
      "Epoch: 25/50\n"
     ]
    },
    {
     "name": "stderr",
     "output_type": "stream",
     "text": [
      "                                                                                                                              \r"
     ]
    },
    {
     "name": "stdout",
     "output_type": "stream",
     "text": [
      "\n",
      "Epoch 25/50: \t Train Loss 0.0229 \n",
      "Val loss 1105838.3267 \t Val dist 2.3524 \t precision: 0.9833 \t recall: 0.9932\t f1: 0.9882\n",
      "\n",
      "Epoch: 26/50\n"
     ]
    },
    {
     "name": "stderr",
     "output_type": "stream",
     "text": [
      "                                                                                                                           \r"
     ]
    },
    {
     "name": "stdout",
     "output_type": "stream",
     "text": [
      "\n",
      "Epoch 26/50: \t Train Loss 0.0222 \n",
      "Val loss 47515.5196 \t Val dist 2.2269 \t precision: 0.9750 \t recall: 0.9978\t f1: 0.9863\n",
      "\n",
      "Epoch: 27/50\n"
     ]
    },
    {
     "name": "stderr",
     "output_type": "stream",
     "text": [
      "                                                                                                                             \r"
     ]
    },
    {
     "name": "stdout",
     "output_type": "stream",
     "text": [
      "\n",
      "Epoch 27/50: \t Train Loss 0.0216 \n",
      "Val loss 428356.8543 \t Val dist 1.9537 \t precision: 0.9823 \t recall: 0.9946\t f1: 0.9884\n",
      "Saving model\n",
      "\n",
      "Epoch: 28/50\n"
     ]
    },
    {
     "name": "stderr",
     "output_type": "stream",
     "text": [
      "                                                                                                                              \r"
     ]
    },
    {
     "name": "stdout",
     "output_type": "stream",
     "text": [
      "\n",
      "Epoch 28/50: \t Train Loss 0.0212 \n",
      "Val loss 930923.1270 \t Val dist 2.3670 \t precision: 0.9784 \t recall: 0.9932\t f1: 0.9857\n",
      "\n",
      "Epoch: 29/50\n"
     ]
    },
    {
     "name": "stderr",
     "output_type": "stream",
     "text": [
      "                                                                                                                              \r"
     ]
    },
    {
     "name": "stdout",
     "output_type": "stream",
     "text": [
      "\n",
      "Epoch 29/50: \t Train Loss 0.0207 \n",
      "Val loss 1143559.4298 \t Val dist 1.7837 \t precision: 0.9809 \t recall: 0.9957\t f1: 0.9882\n",
      "Saving model\n",
      "\n",
      "Epoch: 30/50\n"
     ]
    },
    {
     "name": "stderr",
     "output_type": "stream",
     "text": [
      "                                                                                                                           \r"
     ]
    },
    {
     "name": "stdout",
     "output_type": "stream",
     "text": [
      "\n",
      "Epoch 30/50: \t Train Loss 0.0204 \n",
      "Val loss 4204.0245 \t Val dist 2.3635 \t precision: 0.9836 \t recall: 0.9918\t f1: 0.9877\n",
      "\n",
      "Epoch: 31/50\n"
     ]
    },
    {
     "name": "stderr",
     "output_type": "stream",
     "text": [
      "                                                                                                                            \r"
     ]
    },
    {
     "name": "stdout",
     "output_type": "stream",
     "text": [
      "\n",
      "Epoch 31/50: \t Train Loss 0.0200 \n",
      "Val loss 18245.2227 \t Val dist 2.2054 \t precision: 0.9830 \t recall: 0.9946\t f1: 0.9888\n",
      "\n",
      "Epoch: 32/50\n"
     ]
    },
    {
     "name": "stderr",
     "output_type": "stream",
     "text": [
      "                                                                                                                           \r"
     ]
    },
    {
     "name": "stdout",
     "output_type": "stream",
     "text": [
      "\n",
      "Epoch 32/50: \t Train Loss 0.0194 \n",
      "Val loss 7416.3854 \t Val dist 3.4900 \t precision: 0.9881 \t recall: 0.9814\t f1: 0.9848\n",
      "\n",
      "Epoch: 33/50\n"
     ]
    },
    {
     "name": "stderr",
     "output_type": "stream",
     "text": [
      "                                                                                                                            \r"
     ]
    },
    {
     "name": "stdout",
     "output_type": "stream",
     "text": [
      "\n",
      "Epoch 33/50: \t Train Loss 0.0191 \n",
      "Val loss 161399.2919 \t Val dist 1.8174 \t precision: 0.9816 \t recall: 0.9971\t f1: 0.9893\n",
      "\n",
      "Epoch: 34/50\n"
     ]
    },
    {
     "name": "stderr",
     "output_type": "stream",
     "text": [
      "                                                                                                                            \r"
     ]
    },
    {
     "name": "stdout",
     "output_type": "stream",
     "text": [
      "\n",
      "Epoch 34/50: \t Train Loss 0.0187 \n",
      "Val loss 13343.1785 \t Val dist 1.9232 \t precision: 0.9844 \t recall: 0.9961\t f1: 0.9902\n",
      "\n",
      "Epoch: 35/50\n"
     ]
    },
    {
     "name": "stderr",
     "output_type": "stream",
     "text": [
      "                                                                                                                           \r"
     ]
    },
    {
     "name": "stdout",
     "output_type": "stream",
     "text": [
      "\n",
      "Epoch 35/50: \t Train Loss 0.0181 \n",
      "Val loss 1080.1534 \t Val dist 2.0630 \t precision: 0.9844 \t recall: 0.9957\t f1: 0.9900\n",
      "\n",
      "Epoch: 36/50\n"
     ]
    },
    {
     "name": "stderr",
     "output_type": "stream",
     "text": [
      "                                                                                                                           \r"
     ]
    },
    {
     "name": "stdout",
     "output_type": "stream",
     "text": [
      "\n",
      "Epoch 36/50: \t Train Loss 0.0177 \n",
      "Val loss 5041.9540 \t Val dist 2.2711 \t precision: 0.9844 \t recall: 0.9921\t f1: 0.9882\n",
      "\n",
      "Epoch: 37/50\n"
     ]
    },
    {
     "name": "stderr",
     "output_type": "stream",
     "text": [
      "                                                                                                                            \r"
     ]
    },
    {
     "name": "stdout",
     "output_type": "stream",
     "text": [
      "\n",
      "Epoch 37/50: \t Train Loss 0.0174 \n",
      "Val loss 18707.8473 \t Val dist 2.1594 \t precision: 0.9847 \t recall: 0.9936\t f1: 0.9891\n",
      "\n",
      "Epoch: 38/50\n"
     ]
    },
    {
     "name": "stderr",
     "output_type": "stream",
     "text": [
      "                                                                                                                          \r"
     ]
    },
    {
     "name": "stdout",
     "output_type": "stream",
     "text": [
      "\n",
      "Epoch 38/50: \t Train Loss 0.0168 \n",
      "Val loss 161.2413 \t Val dist 1.9147 \t precision: 0.9841 \t recall: 0.9957\t f1: 0.9899\n",
      "\n",
      "Epoch: 39/50\n"
     ]
    },
    {
     "name": "stderr",
     "output_type": "stream",
     "text": [
      "                                                                                                                           \r"
     ]
    },
    {
     "name": "stdout",
     "output_type": "stream",
     "text": [
      "\n",
      "Epoch 39/50: \t Train Loss 0.0165 \n",
      "Val loss 2040.7609 \t Val dist 2.0868 \t precision: 0.9826 \t recall: 0.9943\t f1: 0.9884\n",
      "\n",
      "Epoch: 40/50\n"
     ]
    },
    {
     "name": "stderr",
     "output_type": "stream",
     "text": [
      "                                                                                                                             \r"
     ]
    },
    {
     "name": "stdout",
     "output_type": "stream",
     "text": [
      "\n",
      "Epoch 40/50: \t Train Loss 0.0163 \n",
      "Val loss 790191.8917 \t Val dist 2.6113 \t precision: 0.9812 \t recall: 0.9914\t f1: 0.9863\n",
      "\n",
      "Epoch: 41/50\n"
     ]
    },
    {
     "name": "stderr",
     "output_type": "stream",
     "text": [
      "                                                                                                                             \r"
     ]
    },
    {
     "name": "stdout",
     "output_type": "stream",
     "text": [
      "\n",
      "Epoch 41/50: \t Train Loss 0.0157 \n",
      "Val loss 539826.7872 \t Val dist 2.2255 \t precision: 0.9830 \t recall: 0.9939\t f1: 0.9884\n",
      "\n",
      "Epoch: 42/50\n"
     ]
    },
    {
     "name": "stderr",
     "output_type": "stream",
     "text": [
      "                                                                                                                             \r"
     ]
    },
    {
     "name": "stdout",
     "output_type": "stream",
     "text": [
      "\n",
      "Epoch 42/50: \t Train Loss 0.0154 \n",
      "Val loss 255820.6534 \t Val dist 1.9830 \t precision: 0.9827 \t recall: 0.9961\t f1: 0.9893\n",
      "\n",
      "Epoch: 43/50\n"
     ]
    },
    {
     "name": "stderr",
     "output_type": "stream",
     "text": [
      "                                                                                                                           \r"
     ]
    },
    {
     "name": "stdout",
     "output_type": "stream",
     "text": [
      "\n",
      "Epoch 43/50: \t Train Loss 0.0151 \n",
      "Val loss 7270.3653 \t Val dist 1.9771 \t precision: 0.9841 \t recall: 0.9950\t f1: 0.9895\n",
      "\n",
      "Epoch: 44/50\n"
     ]
    },
    {
     "name": "stderr",
     "output_type": "stream",
     "text": [
      "                                                                                                                            \r"
     ]
    },
    {
     "name": "stdout",
     "output_type": "stream",
     "text": [
      "\n",
      "Epoch 44/50: \t Train Loss 0.0146 \n",
      "Val loss 45022.6970 \t Val dist 2.2393 \t precision: 0.9840 \t recall: 0.9918\t f1: 0.9879\n",
      "\n",
      "Epoch: 45/50\n"
     ]
    },
    {
     "name": "stderr",
     "output_type": "stream",
     "text": [
      "                                                                                                                            \r"
     ]
    },
    {
     "name": "stdout",
     "output_type": "stream",
     "text": [
      "\n",
      "Epoch 45/50: \t Train Loss 0.0144 \n",
      "Val loss 61683.2207 \t Val dist 2.1546 \t precision: 0.9847 \t recall: 0.9936\t f1: 0.9891\n",
      "\n",
      "Epoch: 46/50\n"
     ]
    },
    {
     "name": "stderr",
     "output_type": "stream",
     "text": [
      "                                                                                                                             \r"
     ]
    },
    {
     "name": "stdout",
     "output_type": "stream",
     "text": [
      "\n",
      "Epoch 46/50: \t Train Loss 0.0139 \n",
      "Val loss 362226.4944 \t Val dist 1.8531 \t precision: 0.9837 \t recall: 0.9964\t f1: 0.9900\n",
      "\n",
      "Epoch: 47/50\n"
     ]
    },
    {
     "name": "stderr",
     "output_type": "stream",
     "text": [
      "                                                                                                                            \r"
     ]
    },
    {
     "name": "stdout",
     "output_type": "stream",
     "text": [
      "\n",
      "Epoch 47/50: \t Train Loss 0.0138 \n",
      "Val loss 18404.1762 \t Val dist 2.0776 \t precision: 0.9823 \t recall: 0.9932\t f1: 0.9877\n",
      "\n",
      "Epoch: 48/50\n"
     ]
    },
    {
     "name": "stderr",
     "output_type": "stream",
     "text": [
      "                                                                                                                             \r"
     ]
    },
    {
     "name": "stdout",
     "output_type": "stream",
     "text": [
      "\n",
      "Epoch 48/50: \t Train Loss 0.0135 \n",
      "Val loss 426734.1559 \t Val dist 2.1183 \t precision: 0.9851 \t recall: 0.9943\t f1: 0.9897\n",
      "\n",
      "Epoch: 49/50\n"
     ]
    },
    {
     "name": "stderr",
     "output_type": "stream",
     "text": [
      "                                                                                                                             \r"
     ]
    },
    {
     "name": "stdout",
     "output_type": "stream",
     "text": [
      "\n",
      "Epoch 49/50: \t Train Loss 0.0132 \n",
      "Val loss 91230.2658 \t Val dist 2.2529 \t precision: 0.9819 \t recall: 0.9932\t f1: 0.9875\n",
      "\n",
      "Epoch: 50/50\n"
     ]
    },
    {
     "name": "stderr",
     "output_type": "stream",
     "text": [
      "                                                                                                                             "
     ]
    },
    {
     "name": "stdout",
     "output_type": "stream",
     "text": [
      "\n",
      "Epoch 50/50: \t Train Loss 0.0129 \n",
      "Val loss 149974.9262 \t Val dist 2.1355 \t precision: 0.9826 \t recall: 0.9939\t f1: 0.9882\n"
     ]
    },
    {
     "name": "stderr",
     "output_type": "stream",
     "text": [
      "\r"
     ]
    }
   ],
   "source": [
    "\n",
    "for epoch in range(0, epoch_num):\n",
    "    print(\"\\nEpoch: {}/{}\".format(epoch+1, epoch_num))\n",
    "    # Call train and validate \n",
    "    train_loss = train(model, train_loader, optimizer, criterion)\n",
    "    train_loss_res.append(train_loss)\n",
    "    val_loss, val_dist, precision, recall, f1 = validate(model, val_loader, criterion, min_dist=5)\n",
    "    scheduler.step(val_dist)\n",
    "    print(\"\\nEpoch {}/{}: \\t Train Loss {:.04f} \".format(\n",
    "          epoch + 1,\n",
    "          epoch_num,\n",
    "          train_loss\n",
    "          ))\n",
    "    print(\"Val loss {:.04f} \\t Val dist {:.04f} \\t precision: {:.04f} \\t recall: {:.04f}\\t f1: {:.04f}\".format(\n",
    "          val_loss, val_dist, precision, recall, f1\n",
    "          ))\n",
    "    val_loss_res.append(val_loss)\n",
    "    val_dist_res.append(val_dist.cpu().item())\n",
    "    precision_res.append(precision)\n",
    "    recall_res.append(recall)\n",
    "    f1_res.append(f1)\n",
    "    torch.cuda.empty_cache()\n",
    "    if val_dist <= best_lev_dist:\n",
    "      best_lev_dist = val_dist\n",
    "      # Save your model checkpoint here\n",
    "      print(\"Saving model\")\n",
    "      torch.save(model.state_dict(), model_save_name)\n",
    "df_metrics = pd.DataFrame({\n",
    "\"train_loss\": train_loss_res,\n",
    "\"val_loss\": val_loss_res,\n",
    "\"val_dist\": val_dist_res,\n",
    "\"precision\": precision_res,\n",
    "\"recall\": recall_res,\n",
    "\"f1\": f1_res\n",
    "})\n",
    "df_metrics.to_csv('training_metrics.csv', index=False)"
   ]
  },
  {
   "cell_type": "code",
   "execution_count": 9,
   "id": "e2f673a8",
   "metadata": {},
   "outputs": [
    {
     "ename": "NameError",
     "evalue": "name 'plot_training_metrics' is not defined",
     "output_type": "error",
     "traceback": [
      "\u001b[1;31m---------------------------------------------------------------------------\u001b[0m",
      "\u001b[1;31mNameError\u001b[0m                                 Traceback (most recent call last)",
      "Cell \u001b[1;32mIn[9], line 2\u001b[0m\n\u001b[0;32m      1\u001b[0m \u001b[38;5;28;01mfrom\u001b[39;00m \u001b[38;5;21;01mvisualization\u001b[39;00m \u001b[38;5;28;01mimport\u001b[39;00m \u001b[38;5;241m*\u001b[39m\n\u001b[1;32m----> 2\u001b[0m \u001b[43mplot_training_metrics\u001b[49m(train_loss_res, val_loss_res, val_dist_res, precision_res, recall_res, f1_res, save_path\u001b[38;5;241m=\u001b[39m\u001b[38;5;124m\"\u001b[39m\u001b[38;5;124mtraining_merics_eca1.jpg\u001b[39m\u001b[38;5;124m\"\u001b[39m)\n",
      "\u001b[1;31mNameError\u001b[0m: name 'plot_training_metrics' is not defined"
     ]
    }
   ],
   "source": [
    "from visualization import *\n",
    "plot_training_metrics(train_loss_res, val_loss_res, val_dist_res, precision_res, recall_res, f1_res, save_path=\"training_merics_eca1.jpg\")\n"
   ]
  },
  {
   "cell_type": "code",
   "execution_count": 15,
   "id": "f94927f1",
   "metadata": {},
   "outputs": [],
   "source": [
    "val_dist_res = [a.cpu().item() for a in val_dist_res]"
   ]
  },
  {
   "cell_type": "code",
   "execution_count": 16,
   "id": "e3207ddd",
   "metadata": {},
   "outputs": [],
   "source": [
    "df_metrics = pd.DataFrame({\n",
    "        \"train_loss\": train_loss_res,\n",
    "        \"val_loss\": val_loss_res,\n",
    "        \"val_dist\": val_dist_res,\n",
    "        \"precision\": precision_res,\n",
    "        \"recall\": recall_res,\n",
    "        \"f1\": f1_res\n",
    "    })\n",
    "df_metrics.to_csv('training_metrics_eca1.csv', index=False)"
   ]
  },
  {
   "cell_type": "markdown",
   "id": "da13da47",
   "metadata": {},
   "source": [
    "## Test"
   ]
  },
  {
   "cell_type": "code",
   "execution_count": null,
   "id": "a99dd7ed",
   "metadata": {},
   "outputs": [
    {
     "name": "stderr",
     "output_type": "stream",
     "text": [
      "C:\\Users\\karby\\AppData\\Local\\Temp\\ipykernel_25444\\717610270.py:3: FutureWarning: You are using `torch.load` with `weights_only=False` (the current default value), which uses the default pickle module implicitly. It is possible to construct malicious pickle data which will execute arbitrary code during unpickling (See https://github.com/pytorch/pytorch/blob/main/SECURITY.md#untrusted-models for more details). In a future release, the default value for `weights_only` will be flipped to `True`. This limits the functions that could be executed during unpickling. Arbitrary objects will no longer be allowed to be loaded via this mode unless they are explicitly allowlisted by the user via `torch.serialization.add_safe_globals`. We recommend you start setting `weights_only=True` for any use case where you don't have full control of the loaded file. Please open an issue on GitHub for any issues related to this experimental feature.\n",
      "  model.load_state_dict(torch.load(model_save_name))\n",
      "                                                                                                                 "
     ]
    },
    {
     "name": "stdout",
     "output_type": "stream",
     "text": [
      "Val loss 0.0327 \t Val dist 0.8197 \t precision: 0.9874 \t recall: 1.0000\t f1: 0.9936\n"
     ]
    },
    {
     "name": "stderr",
     "output_type": "stream",
     "text": [
      "\r"
     ]
    }
   ],
   "source": [
    "model = BallTrackerNet(use_eca=use_eca).to(device)  # Ensure this matches your model\n",
    "# Load the model state_dict\n",
    "model.load_state_dict(torch.load(model_save_name))\n",
    "model.to(device)\n",
    "# Set model to evaluation mode\n",
    "test_loss, test_dist, precision, recall, f1 = validate(model, test_loader, criterion, min_dist=2)\n",
    "print(\"Test loss {:.04f} \\t Test dist {:.04f} \\t precision: {:.04f} \\t recall: {:.04f}\\t f1: {:.04f}\".format(\n",
    "          test_loss, test_dist, precision, recall, f1\n",
    "          ))\n",
    "torch.cuda.empty_cache()"
   ]
  },
  {
   "cell_type": "markdown",
   "id": "747b4d34",
   "metadata": {},
   "source": [
    "## Visualization"
   ]
  },
  {
   "cell_type": "code",
   "execution_count": 11,
   "id": "e3eff998",
   "metadata": {},
   "outputs": [
    {
     "name": "stdout",
     "output_type": "stream",
     "text": [
      "Saved comparison frames to ./visualizations/\n"
     ]
    }
   ],
   "source": [
    "visualize_predictions(model, test_loader, output_dir=\"visualizations\", device=device)\n",
    "print(\"Saved comparison frames to ./visualizations/\")"
   ]
  }
 ],
 "metadata": {
  "kernelspec": {
   "display_name": "ml_env",
   "language": "python",
   "name": "python3"
  },
  "language_info": {
   "codemirror_mode": {
    "name": "ipython",
    "version": 3
   },
   "file_extension": ".py",
   "mimetype": "text/x-python",
   "name": "python",
   "nbconvert_exporter": "python",
   "pygments_lexer": "ipython3",
   "version": "3.9.6"
  }
 },
 "nbformat": 4,
 "nbformat_minor": 5
}
