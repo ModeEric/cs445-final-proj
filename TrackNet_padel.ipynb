{
 "cells": [
  {
   "cell_type": "code",
   "execution_count": 1,
   "id": "665f3156",
   "metadata": {},
   "outputs": [],
   "source": [
    "import sys\n",
    "import os\n",
    "project_root = os.getcwd()  # This will use the current working directory\n",
    "sys.path.append(os.path.join(project_root, 'Code'))\n",
    "from utils import *\n",
    "from data import *\n",
    "from model import *\n",
    "from train import *\n",
    "from validate import *\n",
    "from visualization import *"
   ]
  },
  {
   "cell_type": "code",
   "execution_count": 2,
   "id": "cf4cb9cd",
   "metadata": {},
   "outputs": [
    {
     "name": "stdout",
     "output_type": "stream",
     "text": [
      "Using device: cuda\n"
     ]
    }
   ],
   "source": [
    "device = torch.device('cuda' if torch.cuda.is_available() else 'cpu')\n",
    "print(f'Using device: {device}')"
   ]
  },
  {
   "cell_type": "markdown",
   "id": "1af85f34",
   "metadata": {},
   "source": [
    "## Data"
   ]
  },
  {
   "cell_type": "code",
   "execution_count": 12,
   "id": "f6883d05",
   "metadata": {},
   "outputs": [],
   "source": [
    "batch_size = 16\n",
    "resize_size=(128,256)\n",
    "preprocess_path = './Dataset_preprocess'\n",
    "base_path = './Padel_data'\n",
    "frame_info = 1\n",
    "torch.manual_seed(42)\n",
    "full_dataset = TrackNetDataset(base_path, resize_size=resize_size)\n",
    "train_size = int(0.8 * len(full_dataset))\n",
    "val_size = int(0.15 * len(full_dataset))\n",
    "test_size = len(full_dataset) - train_size - val_size\n",
    "train_dataset, val_dataset, test_dataset = torch.utils.data.random_split(full_dataset, [train_size, val_size, test_size])\n",
    "train_loader = torch.utils.data.DataLoader(\n",
    "    train_dataset,\n",
    "    batch_size=batch_size,\n",
    "    shuffle=True,\n",
    "    num_workers=0,\n",
    "    pin_memory=True\n",
    ")\n",
    "val_loader = torch.utils.data.DataLoader(\n",
    "    val_dataset,\n",
    "    batch_size=batch_size,\n",
    "    shuffle=False,\n",
    "    num_workers=0,\n",
    "    pin_memory=True\n",
    ")\n",
    "test_loader = torch.utils.data.DataLoader(\n",
    "    test_dataset,\n",
    "    batch_size=batch_size,\n",
    "    shuffle=False,\n",
    "    num_workers=0,\n",
    "    pin_memory=True\n",
    ")"
   ]
  },
  {
   "cell_type": "markdown",
   "id": "1fa00b6f",
   "metadata": {},
   "source": [
    "## Train"
   ]
  },
  {
   "cell_type": "code",
   "execution_count": 13,
   "id": "07a75aaf",
   "metadata": {},
   "outputs": [],
   "source": [
    "epoch_num = 200\n",
    "best_lev_dist = 1500\n",
    "model_save_name = 'model_best_pandel.pth'\n",
    "csv_save_path = 'training_metrics_pandel.csv'\n",
    "use_eca =True\n",
    "use_eca1=True"
   ]
  },
  {
   "cell_type": "code",
   "execution_count": 14,
   "id": "f0af3115",
   "metadata": {},
   "outputs": [
    {
     "name": "stderr",
     "output_type": "stream",
     "text": [
      "c:\\Users\\karby\\anaconda3\\envs\\ml_env\\lib\\site-packages\\torch\\optim\\lr_scheduler.py:62: UserWarning: The verbose parameter is deprecated. Please use get_last_lr() to access the learning rate.\n",
      "  warnings.warn(\n"
     ]
    }
   ],
   "source": [
    "# Tracknet\n",
    "gc.collect()\n",
    "torch.cuda.empty_cache()\n",
    "model = BallTrackerNet(use_eca=use_eca, use_eca1=use_eca1).to(device)\n",
    "optimizer = optim.Adam(model.parameters(), lr=1e-2)\n",
    "criterion = nn.CrossEntropyLoss()\n",
    "scheduler = torch.optim.lr_scheduler.ReduceLROnPlateau(optimizer, factor=0.95, patience=1, verbose=True, threshold=1e-2)\n",
    "train_loss_res = []\n",
    "val_loss_res = []\n",
    "val_dist_res =[]\n",
    "precision_res = []\n",
    "recall_res = []\n",
    "f1_res = []"
   ]
  },
  {
   "cell_type": "code",
   "execution_count": 15,
   "id": "9b4778b9",
   "metadata": {},
   "outputs": [
    {
     "name": "stdout",
     "output_type": "stream",
     "text": [
      "\n",
      "Epoch: 1/200\n"
     ]
    },
    {
     "name": "stderr",
     "output_type": "stream",
     "text": [
      "                                                                                                              \r"
     ]
    },
    {
     "name": "stdout",
     "output_type": "stream",
     "text": [
      "\n",
      "Epoch 1/200: \t Train Loss 5.1985 \n",
      "Val loss 7.8163 \t Val dist 80.2469 \t precision: 0.0000 \t recall: 0.0000\t f1: 0.0000\n",
      "Saving model\n",
      "\n",
      "Epoch: 2/200\n"
     ]
    },
    {
     "name": "stderr",
     "output_type": "stream",
     "text": [
      "                                                                                                              \r"
     ]
    },
    {
     "name": "stdout",
     "output_type": "stream",
     "text": [
      "\n",
      "Epoch 2/200: \t Train Loss 4.4219 \n",
      "Val loss 3.5999 \t Val dist 49.0439 \t precision: 0.0000 \t recall: 0.0000\t f1: 0.0000\n",
      "Saving model\n",
      "\n",
      "Epoch: 3/200\n"
     ]
    },
    {
     "name": "stderr",
     "output_type": "stream",
     "text": [
      "                                                                                                              \r"
     ]
    },
    {
     "name": "stdout",
     "output_type": "stream",
     "text": [
      "\n",
      "Epoch 3/200: \t Train Loss 3.6875 \n",
      "Val loss 4.5609 \t Val dist 58.0563 \t precision: 0.0000 \t recall: 0.0000\t f1: 0.0000\n",
      "\n",
      "Epoch: 4/200\n"
     ]
    },
    {
     "name": "stderr",
     "output_type": "stream",
     "text": [
      "                                                                                                              \r"
     ]
    },
    {
     "name": "stdout",
     "output_type": "stream",
     "text": [
      "\n",
      "Epoch 4/200: \t Train Loss 2.9739 \n",
      "Val loss 2.5626 \t Val dist 91.2434 \t precision: 0.0000 \t recall: 0.0000\t f1: 0.0000\n",
      "\n",
      "Epoch: 5/200\n"
     ]
    },
    {
     "name": "stderr",
     "output_type": "stream",
     "text": [
      "                                                                                                              \r"
     ]
    },
    {
     "name": "stdout",
     "output_type": "stream",
     "text": [
      "\n",
      "Epoch 5/200: \t Train Loss 2.3183 \n",
      "Val loss 0.6794 \t Val dist 81.8139 \t precision: 0.0000 \t recall: 0.0000\t f1: 0.0000\n",
      "\n",
      "Epoch: 6/200\n"
     ]
    },
    {
     "name": "stderr",
     "output_type": "stream",
     "text": [
      "                                                                                                              \r"
     ]
    },
    {
     "name": "stdout",
     "output_type": "stream",
     "text": [
      "\n",
      "Epoch 6/200: \t Train Loss 1.7556 \n",
      "Val loss 0.3418 \t Val dist 96.4860 \t precision: 0.0286 \t recall: 0.0130\t f1: 0.0179\n",
      "\n",
      "Epoch: 7/200\n"
     ]
    },
    {
     "name": "stderr",
     "output_type": "stream",
     "text": [
      "                                                                                                               \r"
     ]
    },
    {
     "name": "stdout",
     "output_type": "stream",
     "text": [
      "\n",
      "Epoch 7/200: \t Train Loss 1.3251 \n",
      "Val loss 1.0157 \t Val dist 109.5124 \t precision: 0.0000 \t recall: 0.0000\t f1: 0.0000\n",
      "\n",
      "Epoch: 8/200\n"
     ]
    },
    {
     "name": "stderr",
     "output_type": "stream",
     "text": [
      "                                                                                                               \r"
     ]
    },
    {
     "name": "stdout",
     "output_type": "stream",
     "text": [
      "\n",
      "Epoch 8/200: \t Train Loss 0.9900 \n",
      "Val loss 0.1704 \t Val dist 127.4400 \t precision: 0.0000 \t recall: 0.0000\t f1: 0.0000\n",
      "\n",
      "Epoch: 9/200\n"
     ]
    },
    {
     "name": "stderr",
     "output_type": "stream",
     "text": [
      "                                                                                                               \r"
     ]
    },
    {
     "name": "stdout",
     "output_type": "stream",
     "text": [
      "\n",
      "Epoch 9/200: \t Train Loss 0.7587 \n",
      "Val loss 0.3486 \t Val dist 153.2238 \t precision: 0.0000 \t recall: 0.0000\t f1: 0.0000\n",
      "\n",
      "Epoch: 10/200\n"
     ]
    },
    {
     "name": "stderr",
     "output_type": "stream",
     "text": [
      "                                                                                                               \r"
     ]
    },
    {
     "name": "stdout",
     "output_type": "stream",
     "text": [
      "\n",
      "Epoch 10/200: \t Train Loss 0.5989 \n",
      "Val loss 0.3102 \t Val dist 153.0550 \t precision: 0.0000 \t recall: 0.0000\t f1: 0.0000\n",
      "\n",
      "Epoch: 11/200\n"
     ]
    },
    {
     "name": "stderr",
     "output_type": "stream",
     "text": [
      "                                                                                                               \r"
     ]
    },
    {
     "name": "stdout",
     "output_type": "stream",
     "text": [
      "\n",
      "Epoch 11/200: \t Train Loss 0.4829 \n",
      "Val loss 0.2528 \t Val dist 122.5018 \t precision: 0.2000 \t recall: 0.0093\t f1: 0.0179\n",
      "\n",
      "Epoch: 12/200\n"
     ]
    },
    {
     "name": "stderr",
     "output_type": "stream",
     "text": [
      "                                                                                                               \r"
     ]
    },
    {
     "name": "stdout",
     "output_type": "stream",
     "text": [
      "\n",
      "Epoch 12/200: \t Train Loss 0.4146 \n",
      "Val loss 0.3688 \t Val dist 127.4400 \t precision: 0.0000 \t recall: 0.0000\t f1: 0.0000\n",
      "\n",
      "Epoch: 13/200\n"
     ]
    },
    {
     "name": "stderr",
     "output_type": "stream",
     "text": [
      "                                                                                                               \r"
     ]
    },
    {
     "name": "stdout",
     "output_type": "stream",
     "text": [
      "\n",
      "Epoch 13/200: \t Train Loss 0.3500 \n",
      "Val loss 0.3216 \t Val dist 126.6104 \t precision: 0.0000 \t recall: 0.0000\t f1: 0.0000\n",
      "\n",
      "Epoch: 14/200\n"
     ]
    },
    {
     "name": "stderr",
     "output_type": "stream",
     "text": [
      "                                                                                                               \r"
     ]
    },
    {
     "name": "stdout",
     "output_type": "stream",
     "text": [
      "\n",
      "Epoch 14/200: \t Train Loss 0.3047 \n",
      "Val loss 0.2861 \t Val dist 125.1688 \t precision: 0.0000 \t recall: 0.0000\t f1: 0.0000\n",
      "\n",
      "Epoch: 15/200\n"
     ]
    },
    {
     "name": "stderr",
     "output_type": "stream",
     "text": [
      "                                                                                                               \r"
     ]
    },
    {
     "name": "stdout",
     "output_type": "stream",
     "text": [
      "\n",
      "Epoch 15/200: \t Train Loss 0.2731 \n",
      "Val loss 0.2593 \t Val dist 127.4400 \t precision: 0.0000 \t recall: 0.0000\t f1: 0.0000\n",
      "\n",
      "Epoch: 16/200\n"
     ]
    },
    {
     "name": "stderr",
     "output_type": "stream",
     "text": [
      "                                                                                                                       \r"
     ]
    },
    {
     "name": "stdout",
     "output_type": "stream",
     "text": [
      "\n",
      "Epoch 16/200: \t Train Loss 0.2489 \n",
      "Val loss 311948717.8953 \t Val dist 124.7143 \t precision: 0.2000 \t recall: 0.0093\t f1: 0.0179\n",
      "\n",
      "Epoch: 17/200\n"
     ]
    },
    {
     "name": "stderr",
     "output_type": "stream",
     "text": [
      "                                                                                                               \r"
     ]
    },
    {
     "name": "stdout",
     "output_type": "stream",
     "text": [
      "\n",
      "Epoch 17/200: \t Train Loss 0.2299 \n",
      "Val loss 0.2211 \t Val dist 127.4400 \t precision: 0.0000 \t recall: 0.0000\t f1: 0.0000\n",
      "\n",
      "Epoch: 18/200\n"
     ]
    },
    {
     "name": "stderr",
     "output_type": "stream",
     "text": [
      "                                                                                                               \r"
     ]
    },
    {
     "name": "stdout",
     "output_type": "stream",
     "text": [
      "\n",
      "Epoch 18/200: \t Train Loss 0.2145 \n",
      "Val loss 0.2073 \t Val dist 127.4400 \t precision: 0.0000 \t recall: 0.0000\t f1: 0.0000\n",
      "\n",
      "Epoch: 19/200\n"
     ]
    },
    {
     "name": "stderr",
     "output_type": "stream",
     "text": [
      "                                                                                                               \r"
     ]
    },
    {
     "name": "stdout",
     "output_type": "stream",
     "text": [
      "\n",
      "Epoch 19/200: \t Train Loss 0.2022 \n",
      "Val loss 0.1956 \t Val dist 127.4400 \t precision: 0.0000 \t recall: 0.0000\t f1: 0.0000\n",
      "\n",
      "Epoch: 20/200\n"
     ]
    },
    {
     "name": "stderr",
     "output_type": "stream",
     "text": [
      "                                                                                                               \r"
     ]
    },
    {
     "name": "stdout",
     "output_type": "stream",
     "text": [
      "\n",
      "Epoch 20/200: \t Train Loss 0.1919 \n",
      "Val loss 0.1871 \t Val dist 124.2508 \t precision: 0.0000 \t recall: 0.0000\t f1: 0.0000\n",
      "\n",
      "Epoch: 21/200\n"
     ]
    },
    {
     "name": "stderr",
     "output_type": "stream",
     "text": [
      "                                                                                                               \r"
     ]
    },
    {
     "name": "stdout",
     "output_type": "stream",
     "text": [
      "\n",
      "Epoch 21/200: \t Train Loss 0.1833 \n",
      "Val loss 0.1788 \t Val dist 127.4400 \t precision: 0.0000 \t recall: 0.0000\t f1: 0.0000\n",
      "\n",
      "Epoch: 22/200\n"
     ]
    },
    {
     "name": "stderr",
     "output_type": "stream",
     "text": [
      "                                                                                                               \r"
     ]
    },
    {
     "name": "stdout",
     "output_type": "stream",
     "text": [
      "\n",
      "Epoch 22/200: \t Train Loss 0.1760 \n",
      "Val loss 0.1721 \t Val dist 127.4400 \t precision: 0.0000 \t recall: 0.0000\t f1: 0.0000\n",
      "\n",
      "Epoch: 23/200\n"
     ]
    },
    {
     "name": "stderr",
     "output_type": "stream",
     "text": [
      "                                                                                                               \r"
     ]
    },
    {
     "name": "stdout",
     "output_type": "stream",
     "text": [
      "\n",
      "Epoch 23/200: \t Train Loss 0.1698 \n",
      "Val loss 0.1659 \t Val dist 127.4400 \t precision: 0.0000 \t recall: 0.0000\t f1: 0.0000\n",
      "\n",
      "Epoch: 24/200\n"
     ]
    },
    {
     "name": "stderr",
     "output_type": "stream",
     "text": [
      "                                                                                                                 \r"
     ]
    },
    {
     "name": "stdout",
     "output_type": "stream",
     "text": [
      "\n",
      "Epoch 24/200: \t Train Loss 0.1643 \n",
      "Val loss 841.7508 \t Val dist 123.4464 \t precision: 0.0000 \t recall: 0.0000\t f1: 0.0000\n",
      "\n",
      "Epoch: 25/200\n"
     ]
    },
    {
     "name": "stderr",
     "output_type": "stream",
     "text": [
      "                                                                                                               \r"
     ]
    },
    {
     "name": "stdout",
     "output_type": "stream",
     "text": [
      "\n",
      "Epoch 25/200: \t Train Loss 0.1596 \n",
      "Val loss 0.1564 \t Val dist 126.2396 \t precision: 0.0000 \t recall: 0.0000\t f1: 0.0000\n",
      "\n",
      "Epoch: 26/200\n"
     ]
    },
    {
     "name": "stderr",
     "output_type": "stream",
     "text": [
      "                                                                                                               \r"
     ]
    },
    {
     "name": "stdout",
     "output_type": "stream",
     "text": [
      "\n",
      "Epoch 26/200: \t Train Loss 0.1555 \n",
      "Val loss 0.1527 \t Val dist 127.4400 \t precision: 0.0000 \t recall: 0.0000\t f1: 0.0000\n",
      "\n",
      "Epoch: 27/200\n"
     ]
    },
    {
     "name": "stderr",
     "output_type": "stream",
     "text": [
      "                                                                                                               \r"
     ]
    },
    {
     "name": "stdout",
     "output_type": "stream",
     "text": [
      "\n",
      "Epoch 27/200: \t Train Loss 0.1517 \n",
      "Val loss 0.1496 \t Val dist 127.4400 \t precision: 0.0000 \t recall: 0.0000\t f1: 0.0000\n",
      "\n",
      "Epoch: 28/200\n"
     ]
    },
    {
     "name": "stderr",
     "output_type": "stream",
     "text": [
      "                                                                                                               \r"
     ]
    },
    {
     "name": "stdout",
     "output_type": "stream",
     "text": [
      "\n",
      "Epoch 28/200: \t Train Loss 0.1485 \n",
      "Val loss 0.1458 \t Val dist 127.4400 \t precision: 0.0000 \t recall: 0.0000\t f1: 0.0000\n",
      "\n",
      "Epoch: 29/200\n"
     ]
    },
    {
     "name": "stderr",
     "output_type": "stream",
     "text": [
      "                                                                                                                         \r"
     ]
    },
    {
     "name": "stdout",
     "output_type": "stream",
     "text": [
      "\n",
      "Epoch 29/200: \t Train Loss 0.1455 \n",
      "Val loss 10107089042.3884 \t Val dist 126.9411 \t precision: 0.0000 \t recall: 0.0000\t f1: 0.0000\n",
      "\n",
      "Epoch: 30/200\n"
     ]
    },
    {
     "name": "stderr",
     "output_type": "stream",
     "text": [
      "                                                                                                                         \r"
     ]
    },
    {
     "name": "stdout",
     "output_type": "stream",
     "text": [
      "\n",
      "Epoch 30/200: \t Train Loss 0.1430 \n",
      "Val loss 26791042779.5097 \t Val dist 125.9319 \t precision: 0.0000 \t recall: 0.0000\t f1: 0.0000\n",
      "\n",
      "Epoch: 31/200\n"
     ]
    },
    {
     "name": "stderr",
     "output_type": "stream",
     "text": [
      "                                                                                                               \r"
     ]
    },
    {
     "name": "stdout",
     "output_type": "stream",
     "text": [
      "\n",
      "Epoch 31/200: \t Train Loss 0.1404 \n",
      "Val loss 0.1381 \t Val dist 127.4400 \t precision: 0.0000 \t recall: 0.0000\t f1: 0.0000\n",
      "\n",
      "Epoch: 32/200\n"
     ]
    },
    {
     "name": "stderr",
     "output_type": "stream",
     "text": [
      "                                                                                                               \r"
     ]
    },
    {
     "name": "stdout",
     "output_type": "stream",
     "text": [
      "\n",
      "Epoch 32/200: \t Train Loss 0.1380 \n",
      "Val loss 0.1359 \t Val dist 127.4400 \t precision: 0.0000 \t recall: 0.0000\t f1: 0.0000\n",
      "\n",
      "Epoch: 33/200\n"
     ]
    },
    {
     "name": "stderr",
     "output_type": "stream",
     "text": [
      "                                                                                                               \r"
     ]
    },
    {
     "name": "stdout",
     "output_type": "stream",
     "text": [
      "\n",
      "Epoch 33/200: \t Train Loss 0.1360 \n",
      "Val loss 0.1336 \t Val dist 127.4400 \t precision: 0.0000 \t recall: 0.0000\t f1: 0.0000\n",
      "\n",
      "Epoch: 34/200\n"
     ]
    },
    {
     "name": "stderr",
     "output_type": "stream",
     "text": [
      "                                                                                                               \r"
     ]
    },
    {
     "name": "stdout",
     "output_type": "stream",
     "text": [
      "\n",
      "Epoch 34/200: \t Train Loss 0.1338 \n",
      "Val loss 0.1354 \t Val dist 126.2355 \t precision: 0.5000 \t recall: 0.0091\t f1: 0.0179\n",
      "\n",
      "Epoch: 35/200\n"
     ]
    },
    {
     "name": "stderr",
     "output_type": "stream",
     "text": [
      "                                                                                                               \r"
     ]
    },
    {
     "name": "stdout",
     "output_type": "stream",
     "text": [
      "\n",
      "Epoch 35/200: \t Train Loss 0.1320 \n",
      "Val loss 0.1311 \t Val dist 127.1266 \t precision: 0.0000 \t recall: 0.0000\t f1: 0.0000\n",
      "\n",
      "Epoch: 36/200\n"
     ]
    },
    {
     "name": "stderr",
     "output_type": "stream",
     "text": [
      "                                                                                                               \r"
     ]
    },
    {
     "name": "stdout",
     "output_type": "stream",
     "text": [
      "\n",
      "Epoch 36/200: \t Train Loss 0.1300 \n",
      "Val loss 0.1294 \t Val dist 127.4400 \t precision: 0.0000 \t recall: 0.0000\t f1: 0.0000\n",
      "\n",
      "Epoch: 37/200\n"
     ]
    },
    {
     "name": "stderr",
     "output_type": "stream",
     "text": [
      "                                                                                                               \r"
     ]
    },
    {
     "name": "stdout",
     "output_type": "stream",
     "text": [
      "\n",
      "Epoch 37/200: \t Train Loss 0.1282 \n",
      "Val loss 0.1273 \t Val dist 127.4400 \t precision: 0.0000 \t recall: 0.0000\t f1: 0.0000\n",
      "\n",
      "Epoch: 38/200\n"
     ]
    },
    {
     "name": "stderr",
     "output_type": "stream",
     "text": [
      "                                                                                                                \r"
     ]
    },
    {
     "name": "stdout",
     "output_type": "stream",
     "text": [
      "\n",
      "Epoch 38/200: \t Train Loss 0.1261 \n",
      "Val loss 56.1060 \t Val dist 126.1376 \t precision: 0.0000 \t recall: 0.0000\t f1: 0.0000\n",
      "\n",
      "Epoch: 39/200\n"
     ]
    },
    {
     "name": "stderr",
     "output_type": "stream",
     "text": [
      "                                                                                                               \r"
     ]
    },
    {
     "name": "stdout",
     "output_type": "stream",
     "text": [
      "\n",
      "Epoch 39/200: \t Train Loss 0.1241 \n",
      "Val loss 0.1239 \t Val dist 127.4400 \t precision: 0.0000 \t recall: 0.0000\t f1: 0.0000\n",
      "\n",
      "Epoch: 40/200\n"
     ]
    },
    {
     "name": "stderr",
     "output_type": "stream",
     "text": [
      "                                                                                                               \r"
     ]
    },
    {
     "name": "stdout",
     "output_type": "stream",
     "text": [
      "\n",
      "Epoch 40/200: \t Train Loss 0.1220 \n",
      "Val loss 3.2144 \t Val dist 117.8581 \t precision: 0.0000 \t recall: 0.0000\t f1: 0.0000\n",
      "\n",
      "Epoch: 41/200\n"
     ]
    },
    {
     "name": "stderr",
     "output_type": "stream",
     "text": [
      "                                                                                                               \r"
     ]
    },
    {
     "name": "stdout",
     "output_type": "stream",
     "text": [
      "\n",
      "Epoch 41/200: \t Train Loss 0.1238 \n",
      "Val loss 0.1219 \t Val dist 127.4400 \t precision: 0.0000 \t recall: 0.0000\t f1: 0.0000\n",
      "\n",
      "Epoch: 42/200\n"
     ]
    },
    {
     "name": "stderr",
     "output_type": "stream",
     "text": [
      "                                                                                                               \r"
     ]
    },
    {
     "name": "stdout",
     "output_type": "stream",
     "text": [
      "\n",
      "Epoch 42/200: \t Train Loss 0.1197 \n",
      "Val loss 0.1174 \t Val dist 127.4400 \t precision: 0.0000 \t recall: 0.0000\t f1: 0.0000\n",
      "\n",
      "Epoch: 43/200\n"
     ]
    },
    {
     "name": "stderr",
     "output_type": "stream",
     "text": [
      "                                                                                                               \r"
     ]
    },
    {
     "name": "stdout",
     "output_type": "stream",
     "text": [
      "\n",
      "Epoch 43/200: \t Train Loss 0.1202 \n",
      "Val loss 0.1208 \t Val dist 125.5240 \t precision: 0.0000 \t recall: 0.0000\t f1: 0.0000\n",
      "\n",
      "Epoch: 44/200\n"
     ]
    },
    {
     "name": "stderr",
     "output_type": "stream",
     "text": [
      "                                                                                                               \r"
     ]
    },
    {
     "name": "stdout",
     "output_type": "stream",
     "text": [
      "\n",
      "Epoch 44/200: \t Train Loss 0.1185 \n",
      "Val loss 0.1159 \t Val dist 127.4400 \t precision: 0.0000 \t recall: 0.0000\t f1: 0.0000\n",
      "\n",
      "Epoch: 45/200\n"
     ]
    },
    {
     "name": "stderr",
     "output_type": "stream",
     "text": [
      "                                                                                                               \r"
     ]
    },
    {
     "name": "stdout",
     "output_type": "stream",
     "text": [
      "\n",
      "Epoch 45/200: \t Train Loss 0.1152 \n",
      "Val loss 0.1147 \t Val dist 127.4400 \t precision: 0.0000 \t recall: 0.0000\t f1: 0.0000\n",
      "\n",
      "Epoch: 46/200\n"
     ]
    },
    {
     "name": "stderr",
     "output_type": "stream",
     "text": [
      "                                                                                                               \r"
     ]
    },
    {
     "name": "stdout",
     "output_type": "stream",
     "text": [
      "\n",
      "Epoch 46/200: \t Train Loss 0.1125 \n",
      "Val loss 0.1108 \t Val dist 127.4400 \t precision: 0.0000 \t recall: 0.0000\t f1: 0.0000\n",
      "\n",
      "Epoch: 47/200\n"
     ]
    },
    {
     "name": "stderr",
     "output_type": "stream",
     "text": [
      "                                                                                                               \r"
     ]
    },
    {
     "name": "stdout",
     "output_type": "stream",
     "text": [
      "\n",
      "Epoch 47/200: \t Train Loss 0.1102 \n",
      "Val loss 0.1084 \t Val dist 127.4400 \t precision: 0.0000 \t recall: 0.0000\t f1: 0.0000\n",
      "\n",
      "Epoch: 48/200\n"
     ]
    },
    {
     "name": "stderr",
     "output_type": "stream",
     "text": [
      "                                                                                                               \r"
     ]
    },
    {
     "name": "stdout",
     "output_type": "stream",
     "text": [
      "\n",
      "Epoch 48/200: \t Train Loss 0.1078 \n",
      "Val loss 0.1071 \t Val dist 127.4400 \t precision: 0.0000 \t recall: 0.0000\t f1: 0.0000\n",
      "\n",
      "Epoch: 49/200\n"
     ]
    },
    {
     "name": "stderr",
     "output_type": "stream",
     "text": [
      "                                                                                                               \r"
     ]
    },
    {
     "name": "stdout",
     "output_type": "stream",
     "text": [
      "\n",
      "Epoch 49/200: \t Train Loss 0.1063 \n",
      "Val loss 0.1067 \t Val dist 127.4400 \t precision: 0.0000 \t recall: 0.0000\t f1: 0.0000\n",
      "\n",
      "Epoch: 50/200\n"
     ]
    },
    {
     "name": "stderr",
     "output_type": "stream",
     "text": [
      "                                                                                                               \r"
     ]
    },
    {
     "name": "stdout",
     "output_type": "stream",
     "text": [
      "\n",
      "Epoch 50/200: \t Train Loss 0.1035 \n",
      "Val loss 0.1056 \t Val dist 127.4400 \t precision: 0.0000 \t recall: 0.0000\t f1: 0.0000\n",
      "\n",
      "Epoch: 51/200\n"
     ]
    },
    {
     "name": "stderr",
     "output_type": "stream",
     "text": [
      "                                                                                                               \r"
     ]
    },
    {
     "name": "stdout",
     "output_type": "stream",
     "text": [
      "\n",
      "Epoch 51/200: \t Train Loss 0.1029 \n",
      "Val loss 0.1043 \t Val dist 127.4400 \t precision: 0.0000 \t recall: 0.0000\t f1: 0.0000\n",
      "\n",
      "Epoch: 52/200\n"
     ]
    },
    {
     "name": "stderr",
     "output_type": "stream",
     "text": [
      "                                                                                                               \r"
     ]
    },
    {
     "name": "stdout",
     "output_type": "stream",
     "text": [
      "\n",
      "Epoch 52/200: \t Train Loss 0.1006 \n",
      "Val loss 0.1009 \t Val dist 127.4400 \t precision: 0.0000 \t recall: 0.0000\t f1: 0.0000\n",
      "\n",
      "Epoch: 53/200\n"
     ]
    },
    {
     "name": "stderr",
     "output_type": "stream",
     "text": [
      "                                                                                                               \r"
     ]
    },
    {
     "name": "stdout",
     "output_type": "stream",
     "text": [
      "\n",
      "Epoch 53/200: \t Train Loss 0.0992 \n",
      "Val loss 0.0994 \t Val dist 127.4400 \t precision: 0.0000 \t recall: 0.0000\t f1: 0.0000\n",
      "\n",
      "Epoch: 54/200\n"
     ]
    },
    {
     "name": "stderr",
     "output_type": "stream",
     "text": [
      "                                                                                                               \r"
     ]
    },
    {
     "name": "stdout",
     "output_type": "stream",
     "text": [
      "\n",
      "Epoch 54/200: \t Train Loss 0.0973 \n",
      "Val loss 0.1004 \t Val dist 127.4400 \t precision: 0.0000 \t recall: 0.0000\t f1: 0.0000\n",
      "\n",
      "Epoch: 55/200\n"
     ]
    },
    {
     "name": "stderr",
     "output_type": "stream",
     "text": [
      "                                                                                                               \r"
     ]
    },
    {
     "name": "stdout",
     "output_type": "stream",
     "text": [
      "\n",
      "Epoch 55/200: \t Train Loss 0.0967 \n",
      "Val loss 0.0956 \t Val dist 127.4400 \t precision: 0.0000 \t recall: 0.0000\t f1: 0.0000\n",
      "\n",
      "Epoch: 56/200\n"
     ]
    },
    {
     "name": "stderr",
     "output_type": "stream",
     "text": [
      "                                                                                                               \r"
     ]
    },
    {
     "name": "stdout",
     "output_type": "stream",
     "text": [
      "\n",
      "Epoch 56/200: \t Train Loss 0.0943 \n",
      "Val loss 0.0965 \t Val dist 127.4400 \t precision: 0.0000 \t recall: 0.0000\t f1: 0.0000\n",
      "\n",
      "Epoch: 57/200\n"
     ]
    },
    {
     "name": "stderr",
     "output_type": "stream",
     "text": [
      "                                                                                                               \r"
     ]
    },
    {
     "name": "stdout",
     "output_type": "stream",
     "text": [
      "\n",
      "Epoch 57/200: \t Train Loss 0.0917 \n",
      "Val loss 0.0959 \t Val dist 122.9450 \t precision: 0.3333 \t recall: 0.0092\t f1: 0.0179\n",
      "\n",
      "Epoch: 58/200\n"
     ]
    },
    {
     "name": "stderr",
     "output_type": "stream",
     "text": [
      "                                                                                                               \r"
     ]
    },
    {
     "name": "stdout",
     "output_type": "stream",
     "text": [
      "\n",
      "Epoch 58/200: \t Train Loss 0.0900 \n",
      "Val loss 0.0960 \t Val dist 127.4400 \t precision: 0.0000 \t recall: 0.0000\t f1: 0.0000\n",
      "\n",
      "Epoch: 59/200\n"
     ]
    },
    {
     "name": "stderr",
     "output_type": "stream",
     "text": [
      "                                                                                                               \r"
     ]
    },
    {
     "name": "stdout",
     "output_type": "stream",
     "text": [
      "\n",
      "Epoch 59/200: \t Train Loss 0.0891 \n",
      "Val loss 0.0956 \t Val dist 124.7325 \t precision: 0.0000 \t recall: 0.0000\t f1: 0.0000\n",
      "\n",
      "Epoch: 60/200\n"
     ]
    },
    {
     "name": "stderr",
     "output_type": "stream",
     "text": [
      "                                                                                                               \r"
     ]
    },
    {
     "name": "stdout",
     "output_type": "stream",
     "text": [
      "\n",
      "Epoch 60/200: \t Train Loss 0.0880 \n",
      "Val loss 0.0886 \t Val dist 127.4400 \t precision: 0.0000 \t recall: 0.0000\t f1: 0.0000\n",
      "\n",
      "Epoch: 61/200\n"
     ]
    },
    {
     "name": "stderr",
     "output_type": "stream",
     "text": [
      "                                                                                                               \r"
     ]
    },
    {
     "name": "stdout",
     "output_type": "stream",
     "text": [
      "\n",
      "Epoch 61/200: \t Train Loss 0.0867 \n",
      "Val loss 0.0896 \t Val dist 118.0171 \t precision: 0.6667 \t recall: 0.0556\t f1: 0.1026\n",
      "\n",
      "Epoch: 62/200\n"
     ]
    },
    {
     "name": "stderr",
     "output_type": "stream",
     "text": [
      "                                                                                                                    \r"
     ]
    },
    {
     "name": "stdout",
     "output_type": "stream",
     "text": [
      "\n",
      "Epoch 62/200: \t Train Loss 0.0843 \n",
      "Val loss 400900.0735 \t Val dist 126.8302 \t precision: 0.0000 \t recall: 0.0000\t f1: 0.0000\n",
      "\n",
      "Epoch: 63/200\n"
     ]
    },
    {
     "name": "stderr",
     "output_type": "stream",
     "text": [
      "                                                                                                                \r"
     ]
    },
    {
     "name": "stdout",
     "output_type": "stream",
     "text": [
      "\n",
      "Epoch 63/200: \t Train Loss 0.0836 \n",
      "Val loss 168.1162 \t Val dist 87.7908 \t precision: 0.1395 \t recall: 0.0811\t f1: 0.1026\n",
      "\n",
      "Epoch: 64/200\n"
     ]
    },
    {
     "name": "stderr",
     "output_type": "stream",
     "text": [
      "                                                                                                               \r"
     ]
    },
    {
     "name": "stdout",
     "output_type": "stream",
     "text": [
      "\n",
      "Epoch 64/200: \t Train Loss 0.0829 \n",
      "Val loss 8.9979 \t Val dist 122.5285 \t precision: 0.5000 \t recall: 0.0183\t f1: 0.0354\n",
      "\n",
      "Epoch: 65/200\n"
     ]
    },
    {
     "name": "stderr",
     "output_type": "stream",
     "text": [
      "                                                                                                              \r"
     ]
    },
    {
     "name": "stdout",
     "output_type": "stream",
     "text": [
      "\n",
      "Epoch 65/200: \t Train Loss 0.0806 \n",
      "Val loss 0.0834 \t Val dist 92.3014 \t precision: 0.7407 \t recall: 0.1923\t f1: 0.3053\n",
      "\n",
      "Epoch: 66/200\n"
     ]
    },
    {
     "name": "stderr",
     "output_type": "stream",
     "text": [
      "                                                                                                                    \r"
     ]
    },
    {
     "name": "stdout",
     "output_type": "stream",
     "text": [
      "\n",
      "Epoch 66/200: \t Train Loss 0.0794 \n",
      "Val loss 567334.7799 \t Val dist 77.5171 \t precision: 0.4314 \t recall: 0.2683\t f1: 0.3308\n",
      "\n",
      "Epoch: 67/200\n"
     ]
    },
    {
     "name": "stderr",
     "output_type": "stream",
     "text": [
      "                                                                                                               \r"
     ]
    },
    {
     "name": "stdout",
     "output_type": "stream",
     "text": [
      "\n",
      "Epoch 67/200: \t Train Loss 0.0794 \n",
      "Val loss 0.0827 \t Val dist 82.3624 \t precision: 0.6154 \t recall: 0.2500\t f1: 0.3556\n",
      "\n",
      "Epoch: 68/200\n"
     ]
    },
    {
     "name": "stderr",
     "output_type": "stream",
     "text": [
      "                                                                                                                      \r"
     ]
    },
    {
     "name": "stdout",
     "output_type": "stream",
     "text": [
      "\n",
      "Epoch 68/200: \t Train Loss 0.0806 \n",
      "Val loss 930055.5644 \t Val dist 106.3515 \t precision: 0.5652 \t recall: 0.1287\t f1: 0.2097\n",
      "\n",
      "Epoch: 69/200\n"
     ]
    },
    {
     "name": "stderr",
     "output_type": "stream",
     "text": [
      "                                                                                                               \r"
     ]
    },
    {
     "name": "stdout",
     "output_type": "stream",
     "text": [
      "\n",
      "Epoch 69/200: \t Train Loss 0.0787 \n",
      "Val loss 0.0804 \t Val dist 54.9284 \t precision: 0.6567 \t recall: 0.5000\t f1: 0.5677\n",
      "\n",
      "Epoch: 70/200\n"
     ]
    },
    {
     "name": "stderr",
     "output_type": "stream",
     "text": [
      "                                                                                                               \r"
     ]
    },
    {
     "name": "stdout",
     "output_type": "stream",
     "text": [
      "\n",
      "Epoch 70/200: \t Train Loss 0.0765 \n",
      "Val loss 0.0789 \t Val dist 68.5747 \t precision: 0.3559 \t recall: 0.2877\t f1: 0.3182\n",
      "\n",
      "Epoch: 71/200\n"
     ]
    },
    {
     "name": "stderr",
     "output_type": "stream",
     "text": [
      "                                                                                                               \r"
     ]
    },
    {
     "name": "stdout",
     "output_type": "stream",
     "text": [
      "\n",
      "Epoch 71/200: \t Train Loss 0.0745 \n",
      "Val loss 0.0776 \t Val dist 41.8736 \t precision: 0.6125 \t recall: 0.6125\t f1: 0.6125\n",
      "Saving model\n",
      "\n",
      "Epoch: 72/200\n"
     ]
    },
    {
     "name": "stderr",
     "output_type": "stream",
     "text": [
      "                                                                                                               \r"
     ]
    },
    {
     "name": "stdout",
     "output_type": "stream",
     "text": [
      "\n",
      "Epoch 72/200: \t Train Loss 0.0741 \n",
      "Val loss 0.0750 \t Val dist 58.7399 \t precision: 0.7344 \t recall: 0.5000\t f1: 0.5949\n",
      "\n",
      "Epoch: 73/200\n"
     ]
    },
    {
     "name": "stderr",
     "output_type": "stream",
     "text": [
      "                                                                                                                        \r"
     ]
    },
    {
     "name": "stdout",
     "output_type": "stream",
     "text": [
      "\n",
      "Epoch 73/200: \t Train Loss 0.0730 \n",
      "Val loss 1582557916.9116 \t Val dist 45.9955 \t precision: 0.7105 \t recall: 0.6067\t f1: 0.6545\n",
      "\n",
      "Epoch: 74/200\n"
     ]
    },
    {
     "name": "stderr",
     "output_type": "stream",
     "text": [
      "                                                                                                               \r"
     ]
    },
    {
     "name": "stdout",
     "output_type": "stream",
     "text": [
      "\n",
      "Epoch 74/200: \t Train Loss 0.0729 \n",
      "Val loss 0.0785 \t Val dist 71.9898 \t precision: 0.6182 \t recall: 0.3778\t f1: 0.4690\n",
      "\n",
      "Epoch: 75/200\n"
     ]
    },
    {
     "name": "stderr",
     "output_type": "stream",
     "text": [
      "                                                                                                               \r"
     ]
    },
    {
     "name": "stdout",
     "output_type": "stream",
     "text": [
      "\n",
      "Epoch 75/200: \t Train Loss 0.0716 \n",
      "Val loss 0.0720 \t Val dist 40.0549 \t precision: 0.7500 \t recall: 0.6593\t f1: 0.7018\n",
      "Saving model\n",
      "\n",
      "Epoch: 76/200\n"
     ]
    },
    {
     "name": "stderr",
     "output_type": "stream",
     "text": [
      "                                                                                                               \r"
     ]
    },
    {
     "name": "stdout",
     "output_type": "stream",
     "text": [
      "\n",
      "Epoch 76/200: \t Train Loss 0.0702 \n",
      "Val loss 0.0710 \t Val dist 39.2791 \t precision: 0.7037 \t recall: 0.6552\t f1: 0.6786\n",
      "Saving model\n",
      "\n",
      "Epoch: 77/200\n"
     ]
    },
    {
     "name": "stderr",
     "output_type": "stream",
     "text": [
      "                                                                                                               \r"
     ]
    },
    {
     "name": "stdout",
     "output_type": "stream",
     "text": [
      "\n",
      "Epoch 77/200: \t Train Loss 0.0701 \n",
      "Val loss 0.0727 \t Val dist 46.7300 \t precision: 0.7838 \t recall: 0.6105\t f1: 0.6864\n",
      "\n",
      "Epoch: 78/200\n"
     ]
    },
    {
     "name": "stderr",
     "output_type": "stream",
     "text": [
      "                                                                                                               \r"
     ]
    },
    {
     "name": "stdout",
     "output_type": "stream",
     "text": [
      "\n",
      "Epoch 78/200: \t Train Loss 0.0698 \n",
      "Val loss 0.0732 \t Val dist 34.8394 \t precision: 0.6977 \t recall: 0.7059\t f1: 0.7018\n",
      "Saving model\n",
      "\n",
      "Epoch: 79/200\n"
     ]
    },
    {
     "name": "stderr",
     "output_type": "stream",
     "text": [
      "                                                                                                               \r"
     ]
    },
    {
     "name": "stdout",
     "output_type": "stream",
     "text": [
      "\n",
      "Epoch 79/200: \t Train Loss 0.0695 \n",
      "Val loss 0.0729 \t Val dist 35.1786 \t precision: 0.6988 \t recall: 0.6744\t f1: 0.6864\n",
      "\n",
      "Epoch: 80/200\n"
     ]
    },
    {
     "name": "stderr",
     "output_type": "stream",
     "text": [
      "                                                                                                                    \r"
     ]
    },
    {
     "name": "stdout",
     "output_type": "stream",
     "text": [
      "\n",
      "Epoch 80/200: \t Train Loss 0.0691 \n",
      "Val loss 523078.6677 \t Val dist 32.5309 \t precision: 0.6552 \t recall: 0.7037\t f1: 0.6786\n",
      "Saving model\n",
      "\n",
      "Epoch: 81/200\n"
     ]
    },
    {
     "name": "stderr",
     "output_type": "stream",
     "text": [
      "                                                                                                              \r"
     ]
    },
    {
     "name": "stdout",
     "output_type": "stream",
     "text": [
      "\n",
      "Epoch 81/200: \t Train Loss 0.0687 \n",
      "Val loss 1.2224 \t Val dist 14.9377 \t precision: 0.6262 \t recall: 0.9437\t f1: 0.7528\n",
      "Saving model\n",
      "\n",
      "Epoch: 82/200\n"
     ]
    },
    {
     "name": "stderr",
     "output_type": "stream",
     "text": [
      "                                                                                                                     \r"
     ]
    },
    {
     "name": "stdout",
     "output_type": "stream",
     "text": [
      "\n",
      "Epoch 82/200: \t Train Loss 0.0691 \n",
      "Val loss 587133.2029 \t Val dist 32.1085 \t precision: 0.6667 \t recall: 0.7073\t f1: 0.6864\n",
      "\n",
      "Epoch: 83/200\n"
     ]
    },
    {
     "name": "stderr",
     "output_type": "stream",
     "text": [
      "                                                                                                                          \r"
     ]
    },
    {
     "name": "stdout",
     "output_type": "stream",
     "text": [
      "\n",
      "Epoch 83/200: \t Train Loss 0.0678 \n",
      "Val loss 297844324059.4887 \t Val dist 28.2608 \t precision: 0.6889 \t recall: 0.7470\t f1: 0.7168\n",
      "\n",
      "Epoch: 84/200\n"
     ]
    },
    {
     "name": "stderr",
     "output_type": "stream",
     "text": [
      "                                                                                                                  \r"
     ]
    },
    {
     "name": "stdout",
     "output_type": "stream",
     "text": [
      "\n",
      "Epoch 84/200: \t Train Loss 0.0658 \n",
      "Val loss 6415.6094 \t Val dist 37.7605 \t precision: 0.7529 \t recall: 0.7111\t f1: 0.7314\n",
      "\n",
      "Epoch: 85/200\n"
     ]
    },
    {
     "name": "stderr",
     "output_type": "stream",
     "text": [
      "                                                                                                                   \r"
     ]
    },
    {
     "name": "stdout",
     "output_type": "stream",
     "text": [
      "\n",
      "Epoch 85/200: \t Train Loss 0.0673 \n",
      "Val loss 10431.7951 \t Val dist 31.1359 \t precision: 0.6889 \t recall: 0.7470\t f1: 0.7168\n",
      "\n",
      "Epoch: 86/200\n"
     ]
    },
    {
     "name": "stderr",
     "output_type": "stream",
     "text": [
      "                                                                                                                 \r"
     ]
    },
    {
     "name": "stdout",
     "output_type": "stream",
     "text": [
      "\n",
      "Epoch 86/200: \t Train Loss 0.0644 \n",
      "Val loss 5665.1719 \t Val dist 14.3960 \t precision: 0.6311 \t recall: 0.8904\t f1: 0.7386\n",
      "Saving model\n",
      "\n",
      "Epoch: 87/200\n"
     ]
    },
    {
     "name": "stderr",
     "output_type": "stream",
     "text": [
      "                                                                                                               \r"
     ]
    },
    {
     "name": "stdout",
     "output_type": "stream",
     "text": [
      "\n",
      "Epoch 87/200: \t Train Loss 0.0635 \n",
      "Val loss 0.0662 \t Val dist 23.7936 \t precision: 0.7872 \t recall: 0.8132\t f1: 0.8000\n",
      "\n",
      "Epoch: 88/200\n"
     ]
    },
    {
     "name": "stderr",
     "output_type": "stream",
     "text": [
      "                                                                                                               \r"
     ]
    },
    {
     "name": "stdout",
     "output_type": "stream",
     "text": [
      "\n",
      "Epoch 88/200: \t Train Loss 0.0634 \n",
      "Val loss 0.0662 \t Val dist 18.1681 \t precision: 0.7879 \t recall: 0.8667\t f1: 0.8254\n",
      "\n",
      "Epoch: 89/200\n"
     ]
    },
    {
     "name": "stderr",
     "output_type": "stream",
     "text": [
      "                                                                                                               \r"
     ]
    },
    {
     "name": "stdout",
     "output_type": "stream",
     "text": [
      "\n",
      "Epoch 89/200: \t Train Loss 0.0619 \n",
      "Val loss 0.0673 \t Val dist 22.5978 \t precision: 0.7113 \t recall: 0.8313\t f1: 0.7667\n",
      "\n",
      "Epoch: 90/200\n"
     ]
    },
    {
     "name": "stderr",
     "output_type": "stream",
     "text": [
      "                                                                                                                     \r"
     ]
    },
    {
     "name": "stdout",
     "output_type": "stream",
     "text": [
      "\n",
      "Epoch 90/200: \t Train Loss 0.0643 \n",
      "Val loss 5307411.4853 \t Val dist 18.9734 \t precision: 0.8061 \t recall: 0.8587\t f1: 0.8316\n",
      "\n",
      "Epoch: 91/200\n"
     ]
    },
    {
     "name": "stderr",
     "output_type": "stream",
     "text": [
      "                                                                                                               \r"
     ]
    },
    {
     "name": "stdout",
     "output_type": "stream",
     "text": [
      "\n",
      "Epoch 91/200: \t Train Loss 0.0665 \n",
      "Val loss 0.0659 \t Val dist 31.7587 \t precision: 0.7701 \t recall: 0.7363\t f1: 0.7528\n",
      "\n",
      "Epoch: 92/200\n"
     ]
    },
    {
     "name": "stderr",
     "output_type": "stream",
     "text": [
      "                                                                                                                 \r"
     ]
    },
    {
     "name": "stdout",
     "output_type": "stream",
     "text": [
      "\n",
      "Epoch 92/200: \t Train Loss 0.0624 \n",
      "Val loss 5944.0920 \t Val dist 14.9679 \t precision: 0.5882 \t recall: 0.8696\t f1: 0.7018\n",
      "\n",
      "Epoch: 93/200\n"
     ]
    },
    {
     "name": "stderr",
     "output_type": "stream",
     "text": [
      "                                                                                                               \r"
     ]
    },
    {
     "name": "stdout",
     "output_type": "stream",
     "text": [
      "\n",
      "Epoch 93/200: \t Train Loss 0.0610 \n",
      "Val loss 0.0655 \t Val dist 18.3704 \t precision: 0.8969 \t recall: 0.8614\t f1: 0.8788\n",
      "\n",
      "Epoch: 94/200\n"
     ]
    },
    {
     "name": "stderr",
     "output_type": "stream",
     "text": [
      "                                                                                                                       \r"
     ]
    },
    {
     "name": "stdout",
     "output_type": "stream",
     "text": [
      "\n",
      "Epoch 94/200: \t Train Loss 0.0605 \n",
      "Val loss 2075116399.1887 \t Val dist 10.0134 \t precision: 0.6262 \t recall: 0.9437\t f1: 0.7528\n",
      "Saving model\n",
      "\n",
      "Epoch: 95/200\n"
     ]
    },
    {
     "name": "stderr",
     "output_type": "stream",
     "text": [
      "                                                                                                               \r"
     ]
    },
    {
     "name": "stdout",
     "output_type": "stream",
     "text": [
      "\n",
      "Epoch 95/200: \t Train Loss 0.0602 \n",
      "Val loss 0.0645 \t Val dist 16.4064 \t precision: 0.8317 \t recall: 0.8936\t f1: 0.8615\n",
      "\n",
      "Epoch: 96/200\n"
     ]
    },
    {
     "name": "stderr",
     "output_type": "stream",
     "text": [
      "                                                                                                               \r"
     ]
    },
    {
     "name": "stdout",
     "output_type": "stream",
     "text": [
      "\n",
      "Epoch 96/200: \t Train Loss 0.0593 \n",
      "Val loss 0.0640 \t Val dist 17.8088 \t precision: 0.7980 \t recall: 0.8681\t f1: 0.8316\n",
      "\n",
      "Epoch: 97/200\n"
     ]
    },
    {
     "name": "stderr",
     "output_type": "stream",
     "text": [
      "                                                                                                                        \r"
     ]
    },
    {
     "name": "stdout",
     "output_type": "stream",
     "text": [
      "\n",
      "Epoch 97/200: \t Train Loss 0.0592 \n",
      "Val loss 2991408879.1959 \t Val dist 16.0609 \t precision: 0.8515 \t recall: 0.8958\t f1: 0.8731\n",
      "\n",
      "Epoch: 98/200\n"
     ]
    },
    {
     "name": "stderr",
     "output_type": "stream",
     "text": [
      "                                                                                                                  \r"
     ]
    },
    {
     "name": "stdout",
     "output_type": "stream",
     "text": [
      "\n",
      "Epoch 98/200: \t Train Loss 0.0583 \n",
      "Val loss 185632.9267 \t Val dist 6.6831 \t precision: 0.8889 \t recall: 0.9697\t f1: 0.9275\n",
      "Saving model\n",
      "\n",
      "Epoch: 99/200\n"
     ]
    },
    {
     "name": "stderr",
     "output_type": "stream",
     "text": [
      "                                                                                                                   \r"
     ]
    },
    {
     "name": "stdout",
     "output_type": "stream",
     "text": [
      "\n",
      "Epoch 99/200: \t Train Loss 0.0585 \n",
      "Val loss 262372.0357 \t Val dist 9.2843 \t precision: 0.8019 \t recall: 0.9444\t f1: 0.8673\n",
      "\n",
      "Epoch: 100/200\n"
     ]
    },
    {
     "name": "stderr",
     "output_type": "stream",
     "text": [
      "                                                                                                                       \r"
     ]
    },
    {
     "name": "stdout",
     "output_type": "stream",
     "text": [
      "\n",
      "Epoch 100/200: \t Train Loss 0.0585 \n",
      "Val loss 145362614.9119 \t Val dist 18.2378 \t precision: 0.8469 \t recall: 0.8646\t f1: 0.8557\n",
      "\n",
      "Epoch: 101/200\n"
     ]
    },
    {
     "name": "stderr",
     "output_type": "stream",
     "text": [
      "                                                                                                                     \r"
     ]
    },
    {
     "name": "stdout",
     "output_type": "stream",
     "text": [
      "\n",
      "Epoch 101/200: \t Train Loss 0.0576 \n",
      "Val loss 8133166.1601 \t Val dist 11.0937 \t precision: 0.7890 \t recall: 0.9773\t f1: 0.8731\n",
      "\n",
      "Epoch: 102/200\n"
     ]
    },
    {
     "name": "stderr",
     "output_type": "stream",
     "text": [
      "                                                                                                                   \r"
     ]
    },
    {
     "name": "stdout",
     "output_type": "stream",
     "text": [
      "\n",
      "Epoch 102/200: \t Train Loss 0.0674 \n",
      "Val loss 509117.3926 \t Val dist 17.8358 \t precision: 0.7087 \t recall: 0.9012\t f1: 0.7935\n",
      "\n",
      "Epoch: 103/200\n"
     ]
    },
    {
     "name": "stderr",
     "output_type": "stream",
     "text": [
      "                                                                                                             \r"
     ]
    },
    {
     "name": "stdout",
     "output_type": "stream",
     "text": [
      "\n",
      "Epoch 103/200: \t Train Loss 0.0604 \n",
      "Val loss 0.0626 \t Val dist 7.1564 \t precision: 0.6697 \t recall: 0.9733\t f1: 0.7935\n",
      "\n",
      "Epoch: 104/200\n"
     ]
    },
    {
     "name": "stderr",
     "output_type": "stream",
     "text": [
      "                                                                                                                   \r"
     ]
    },
    {
     "name": "stdout",
     "output_type": "stream",
     "text": [
      "\n",
      "Epoch 104/200: \t Train Loss 0.0596 \n",
      "Val loss 545141.9441 \t Val dist 10.8353 \t precision: 0.7547 \t recall: 0.9412\t f1: 0.8377\n",
      "\n",
      "Epoch: 105/200\n"
     ]
    },
    {
     "name": "stderr",
     "output_type": "stream",
     "text": [
      "                                                                                                                   \r"
     ]
    },
    {
     "name": "stdout",
     "output_type": "stream",
     "text": [
      "\n",
      "Epoch 105/200: \t Train Loss 0.0561 \n",
      "Val loss 421477.2650 \t Val dist 5.6234 \t precision: 0.6667 \t recall: 1.0000\t f1: 0.8000\n",
      "Saving model\n",
      "\n",
      "Epoch: 106/200\n"
     ]
    },
    {
     "name": "stderr",
     "output_type": "stream",
     "text": [
      "                                                                                                                     \r"
     ]
    },
    {
     "name": "stdout",
     "output_type": "stream",
     "text": [
      "\n",
      "Epoch 106/200: \t Train Loss 0.0550 \n",
      "Val loss 83098120.1308 \t Val dist 4.3090 \t precision: 0.8108 \t recall: 1.0000\t f1: 0.8955\n",
      "Saving model\n",
      "\n",
      "Epoch: 107/200\n"
     ]
    },
    {
     "name": "stderr",
     "output_type": "stream",
     "text": [
      "                                                                                                                     \r"
     ]
    },
    {
     "name": "stdout",
     "output_type": "stream",
     "text": [
      "\n",
      "Epoch 107/200: \t Train Loss 0.0570 \n",
      "Val loss 100164937.1950 \t Val dist 4.1378 \t precision: 0.8739 \t recall: 1.0000\t f1: 0.9327\n",
      "Saving model\n",
      "\n",
      "Epoch: 108/200\n"
     ]
    },
    {
     "name": "stderr",
     "output_type": "stream",
     "text": [
      "                                                                                                                     \r"
     ]
    },
    {
     "name": "stdout",
     "output_type": "stream",
     "text": [
      "\n",
      "Epoch 108/200: \t Train Loss 0.0546 \n",
      "Val loss 96403602.3357 \t Val dist 3.7667 \t precision: 0.8468 \t recall: 1.0000\t f1: 0.9171\n",
      "Saving model\n",
      "\n",
      "Epoch: 109/200\n"
     ]
    },
    {
     "name": "stderr",
     "output_type": "stream",
     "text": [
      "                                                                                                                     \r"
     ]
    },
    {
     "name": "stdout",
     "output_type": "stream",
     "text": [
      "\n",
      "Epoch 109/200: \t Train Loss 0.0537 \n",
      "Val loss 89650843.4784 \t Val dist 6.9753 \t precision: 0.7870 \t recall: 0.9659\t f1: 0.8673\n",
      "\n",
      "Epoch: 110/200\n"
     ]
    },
    {
     "name": "stderr",
     "output_type": "stream",
     "text": [
      "                                                                                                                     \r"
     ]
    },
    {
     "name": "stdout",
     "output_type": "stream",
     "text": [
      "\n",
      "Epoch 110/200: \t Train Loss 0.0538 \n",
      "Val loss 123431232.0492 \t Val dist 6.6408 \t precision: 0.8981 \t recall: 0.9700\t f1: 0.9327\n",
      "\n",
      "Epoch: 111/200\n"
     ]
    },
    {
     "name": "stderr",
     "output_type": "stream",
     "text": [
      "                                                                                                                     \r"
     ]
    },
    {
     "name": "stdout",
     "output_type": "stream",
     "text": [
      "\n",
      "Epoch 111/200: \t Train Loss 0.0535 \n",
      "Val loss 139353962.4701 \t Val dist 3.6852 \t precision: 0.8468 \t recall: 1.0000\t f1: 0.9171\n",
      "Saving model\n",
      "\n",
      "Epoch: 112/200\n"
     ]
    },
    {
     "name": "stderr",
     "output_type": "stream",
     "text": [
      "                                                                                                                   \r"
     ]
    },
    {
     "name": "stdout",
     "output_type": "stream",
     "text": [
      "\n",
      "Epoch 112/200: \t Train Loss 0.0528 \n",
      "Val loss 414775.1946 \t Val dist 3.2016 \t precision: 0.9009 \t recall: 1.0000\t f1: 0.9479\n",
      "Saving model\n",
      "\n",
      "Epoch: 113/200\n"
     ]
    },
    {
     "name": "stderr",
     "output_type": "stream",
     "text": [
      "                                                                                                                     \r"
     ]
    },
    {
     "name": "stdout",
     "output_type": "stream",
     "text": [
      "\n",
      "Epoch 113/200: \t Train Loss 0.0522 \n",
      "Val loss 97146242.0223 \t Val dist 4.1831 \t precision: 0.8739 \t recall: 1.0000\t f1: 0.9327\n",
      "\n",
      "Epoch: 114/200\n"
     ]
    },
    {
     "name": "stderr",
     "output_type": "stream",
     "text": [
      "                                                                                                                 \r"
     ]
    },
    {
     "name": "stdout",
     "output_type": "stream",
     "text": [
      "\n",
      "Epoch 114/200: \t Train Loss 0.0542 \n",
      "Val loss 78131.7555 \t Val dist 11.1813 \t precision: 0.9231 \t recall: 0.9320\t f1: 0.9275\n",
      "\n",
      "Epoch: 115/200\n"
     ]
    },
    {
     "name": "stderr",
     "output_type": "stream",
     "text": [
      "                                                                                                                  \r"
     ]
    },
    {
     "name": "stdout",
     "output_type": "stream",
     "text": [
      "\n",
      "Epoch 115/200: \t Train Loss 0.0557 \n",
      "Val loss 247806.4618 \t Val dist 4.2287 \t precision: 0.7568 \t recall: 1.0000\t f1: 0.8615\n",
      "\n",
      "Epoch: 116/200\n"
     ]
    },
    {
     "name": "stderr",
     "output_type": "stream",
     "text": [
      "                                                                                                                   \r"
     ]
    },
    {
     "name": "stdout",
     "output_type": "stream",
     "text": [
      "\n",
      "Epoch 116/200: \t Train Loss 0.0524 \n",
      "Val loss 1032961.8350 \t Val dist 3.9518 \t precision: 0.7838 \t recall: 1.0000\t f1: 0.8788\n",
      "\n",
      "Epoch: 117/200\n"
     ]
    },
    {
     "name": "stderr",
     "output_type": "stream",
     "text": [
      "                                                                                                                   \r"
     ]
    },
    {
     "name": "stdout",
     "output_type": "stream",
     "text": [
      "\n",
      "Epoch 117/200: \t Train Loss 0.0509 \n",
      "Val loss 8368003.9188 \t Val dist 3.3594 \t precision: 0.8919 \t recall: 1.0000\t f1: 0.9429\n",
      "\n",
      "Epoch: 118/200\n"
     ]
    },
    {
     "name": "stderr",
     "output_type": "stream",
     "text": [
      "                                                                                                                     \r"
     ]
    },
    {
     "name": "stdout",
     "output_type": "stream",
     "text": [
      "\n",
      "Epoch 118/200: \t Train Loss 0.0523 \n",
      "Val loss 232623323.4677 \t Val dist 4.9402 \t precision: 0.9189 \t recall: 1.0000\t f1: 0.9577\n",
      "\n",
      "Epoch: 119/200\n"
     ]
    },
    {
     "name": "stderr",
     "output_type": "stream",
     "text": [
      "                                                                                                                 \r"
     ]
    },
    {
     "name": "stdout",
     "output_type": "stream",
     "text": [
      "\n",
      "Epoch 119/200: \t Train Loss 0.0506 \n",
      "Val loss 26148.3260 \t Val dist 4.1184 \t precision: 0.8636 \t recall: 0.9896\t f1: 0.9223\n",
      "\n",
      "Epoch: 120/200\n"
     ]
    },
    {
     "name": "stderr",
     "output_type": "stream",
     "text": [
      "                                                                                                                   \r"
     ]
    },
    {
     "name": "stdout",
     "output_type": "stream",
     "text": [
      "\n",
      "Epoch 120/200: \t Train Loss 0.0503 \n",
      "Val loss 2914894.9505 \t Val dist 2.8924 \t precision: 0.9459 \t recall: 1.0000\t f1: 0.9722\n",
      "Saving model\n",
      "\n",
      "Epoch: 121/200\n"
     ]
    },
    {
     "name": "stderr",
     "output_type": "stream",
     "text": [
      "                                                                                                              \r"
     ]
    },
    {
     "name": "stdout",
     "output_type": "stream",
     "text": [
      "\n",
      "Epoch 121/200: \t Train Loss 0.0499 \n",
      "Val loss 0.0558 \t Val dist 3.9137 \t precision: 0.9099 \t recall: 1.0000\t f1: 0.9528\n",
      "\n",
      "Epoch: 122/200\n"
     ]
    },
    {
     "name": "stderr",
     "output_type": "stream",
     "text": [
      "                                                                                                             \r"
     ]
    },
    {
     "name": "stdout",
     "output_type": "stream",
     "text": [
      "\n",
      "Epoch 122/200: \t Train Loss 0.0498 \n",
      "Val loss 0.0536 \t Val dist 2.3532 \t precision: 0.9730 \t recall: 1.0000\t f1: 0.9863\n",
      "Saving model\n",
      "\n",
      "Epoch: 123/200\n"
     ]
    },
    {
     "name": "stderr",
     "output_type": "stream",
     "text": [
      "                                                                                                             \r"
     ]
    },
    {
     "name": "stdout",
     "output_type": "stream",
     "text": [
      "\n",
      "Epoch 123/200: \t Train Loss 0.0486 \n",
      "Val loss 0.0541 \t Val dist 2.4148 \t precision: 0.9189 \t recall: 1.0000\t f1: 0.9577\n",
      "\n",
      "Epoch: 124/200\n"
     ]
    },
    {
     "name": "stderr",
     "output_type": "stream",
     "text": [
      "                                                                                                                   \r"
     ]
    },
    {
     "name": "stdout",
     "output_type": "stream",
     "text": [
      "\n",
      "Epoch 124/200: \t Train Loss 0.0486 \n",
      "Val loss 835323.4776 \t Val dist 8.2933 \t precision: 0.8224 \t recall: 0.9565\t f1: 0.8844\n",
      "\n",
      "Epoch: 125/200\n"
     ]
    },
    {
     "name": "stderr",
     "output_type": "stream",
     "text": [
      "                                                                                                             \r"
     ]
    },
    {
     "name": "stdout",
     "output_type": "stream",
     "text": [
      "\n",
      "Epoch 125/200: \t Train Loss 0.0499 \n",
      "Val loss 0.0531 \t Val dist 2.5071 \t precision: 0.9459 \t recall: 1.0000\t f1: 0.9722\n",
      "\n",
      "Epoch: 126/200\n"
     ]
    },
    {
     "name": "stderr",
     "output_type": "stream",
     "text": [
      "                                                                                                             \r"
     ]
    },
    {
     "name": "stdout",
     "output_type": "stream",
     "text": [
      "\n",
      "Epoch 126/200: \t Train Loss 0.0477 \n",
      "Val loss 0.0539 \t Val dist 3.6387 \t precision: 0.9818 \t recall: 0.9908\t f1: 0.9863\n",
      "\n",
      "Epoch: 127/200\n"
     ]
    },
    {
     "name": "stderr",
     "output_type": "stream",
     "text": [
      "                                                                                                             \r"
     ]
    },
    {
     "name": "stdout",
     "output_type": "stream",
     "text": [
      "\n",
      "Epoch 127/200: \t Train Loss 0.0492 \n",
      "Val loss 0.0558 \t Val dist 2.0609 \t precision: 0.9640 \t recall: 1.0000\t f1: 0.9817\n",
      "Saving model\n",
      "\n",
      "Epoch: 128/200\n"
     ]
    },
    {
     "name": "stderr",
     "output_type": "stream",
     "text": [
      "                                                                                                                  \r"
     ]
    },
    {
     "name": "stdout",
     "output_type": "stream",
     "text": [
      "\n",
      "Epoch 128/200: \t Train Loss 0.0485 \n",
      "Val loss 618070.2352 \t Val dist 4.0324 \t precision: 0.8909 \t recall: 0.9899\t f1: 0.9378\n",
      "\n",
      "Epoch: 129/200\n"
     ]
    },
    {
     "name": "stderr",
     "output_type": "stream",
     "text": [
      "                                                                                                                    \r"
     ]
    },
    {
     "name": "stdout",
     "output_type": "stream",
     "text": [
      "\n",
      "Epoch 129/200: \t Train Loss 0.0470 \n",
      "Val loss 48621376.0456 \t Val dist 3.1943 \t precision: 0.9909 \t recall: 0.9909\t f1: 0.9909\n",
      "\n",
      "Epoch: 130/200\n"
     ]
    },
    {
     "name": "stderr",
     "output_type": "stream",
     "text": [
      "                                                                                                                  \r"
     ]
    },
    {
     "name": "stdout",
     "output_type": "stream",
     "text": [
      "\n",
      "Epoch 130/200: \t Train Loss 0.0483 \n",
      "Val loss 323279.2247 \t Val dist 5.9242 \t precision: 0.7909 \t recall: 0.9886\t f1: 0.8788\n",
      "\n",
      "Epoch: 131/200\n"
     ]
    },
    {
     "name": "stderr",
     "output_type": "stream",
     "text": [
      "                                                                                                              \r"
     ]
    },
    {
     "name": "stdout",
     "output_type": "stream",
     "text": [
      "\n",
      "Epoch 131/200: \t Train Loss 0.0479 \n",
      "Val loss 0.0510 \t Val dist 3.7858 \t precision: 0.9091 \t recall: 0.9901\t f1: 0.9479\n",
      "\n",
      "Epoch: 132/200\n"
     ]
    },
    {
     "name": "stderr",
     "output_type": "stream",
     "text": [
      "                                                                                                             \r"
     ]
    },
    {
     "name": "stdout",
     "output_type": "stream",
     "text": [
      "\n",
      "Epoch 132/200: \t Train Loss 0.0484 \n",
      "Val loss 0.0523 \t Val dist 1.6377 \t precision: 0.9820 \t recall: 1.0000\t f1: 0.9909\n",
      "Saving model\n",
      "\n",
      "Epoch: 133/200\n"
     ]
    },
    {
     "name": "stderr",
     "output_type": "stream",
     "text": [
      "                                                                                                             \r"
     ]
    },
    {
     "name": "stdout",
     "output_type": "stream",
     "text": [
      "\n",
      "Epoch 133/200: \t Train Loss 0.0463 \n",
      "Val loss 0.0508 \t Val dist 2.0119 \t precision: 0.9910 \t recall: 1.0000\t f1: 0.9955\n",
      "\n",
      "Epoch: 134/200\n"
     ]
    },
    {
     "name": "stderr",
     "output_type": "stream",
     "text": [
      "                                                                                                                    \r"
     ]
    },
    {
     "name": "stdout",
     "output_type": "stream",
     "text": [
      "\n",
      "Epoch 134/200: \t Train Loss 0.0455 \n",
      "Val loss 14030276.6180 \t Val dist 2.7139 \t precision: 0.9910 \t recall: 1.0000\t f1: 0.9955\n",
      "\n",
      "Epoch: 135/200\n"
     ]
    },
    {
     "name": "stderr",
     "output_type": "stream",
     "text": [
      "                                                                                                                   \r"
     ]
    },
    {
     "name": "stdout",
     "output_type": "stream",
     "text": [
      "\n",
      "Epoch 135/200: \t Train Loss 0.0460 \n",
      "Val loss 2875183.4724 \t Val dist 3.1502 \t precision: 0.9550 \t recall: 1.0000\t f1: 0.9770\n",
      "\n",
      "Epoch: 136/200\n"
     ]
    },
    {
     "name": "stderr",
     "output_type": "stream",
     "text": [
      "                                                                                                             \r"
     ]
    },
    {
     "name": "stdout",
     "output_type": "stream",
     "text": [
      "\n",
      "Epoch 136/200: \t Train Loss 0.0454 \n",
      "Val loss 0.0516 \t Val dist 2.2338 \t precision: 0.9730 \t recall: 1.0000\t f1: 0.9863\n",
      "\n",
      "Epoch: 137/200\n"
     ]
    },
    {
     "name": "stderr",
     "output_type": "stream",
     "text": [
      "                                                                                                             \r"
     ]
    },
    {
     "name": "stdout",
     "output_type": "stream",
     "text": [
      "\n",
      "Epoch 137/200: \t Train Loss 0.0457 \n",
      "Val loss 0.0549 \t Val dist 2.6831 \t precision: 0.9369 \t recall: 1.0000\t f1: 0.9674\n",
      "\n",
      "Epoch: 138/200\n"
     ]
    },
    {
     "name": "stderr",
     "output_type": "stream",
     "text": [
      "                                                                                                             \r"
     ]
    },
    {
     "name": "stdout",
     "output_type": "stream",
     "text": [
      "\n",
      "Epoch 138/200: \t Train Loss 0.0450 \n",
      "Val loss 0.0520 \t Val dist 2.0459 \t precision: 0.9820 \t recall: 1.0000\t f1: 0.9909\n",
      "\n",
      "Epoch: 139/200\n"
     ]
    },
    {
     "name": "stderr",
     "output_type": "stream",
     "text": [
      "                                                                                                             \r"
     ]
    },
    {
     "name": "stdout",
     "output_type": "stream",
     "text": [
      "\n",
      "Epoch 139/200: \t Train Loss 0.0456 \n",
      "Val loss 0.0520 \t Val dist 2.6466 \t precision: 0.9369 \t recall: 1.0000\t f1: 0.9674\n",
      "\n",
      "Epoch: 140/200\n"
     ]
    },
    {
     "name": "stderr",
     "output_type": "stream",
     "text": [
      "                                                                                                             \r"
     ]
    },
    {
     "name": "stdout",
     "output_type": "stream",
     "text": [
      "\n",
      "Epoch 140/200: \t Train Loss 0.0437 \n",
      "Val loss 0.0528 \t Val dist 2.5026 \t precision: 0.9640 \t recall: 1.0000\t f1: 0.9817\n",
      "\n",
      "Epoch: 141/200\n"
     ]
    },
    {
     "name": "stderr",
     "output_type": "stream",
     "text": [
      "                                                                                                                   \r"
     ]
    },
    {
     "name": "stdout",
     "output_type": "stream",
     "text": [
      "\n",
      "Epoch 141/200: \t Train Loss 0.0437 \n",
      "Val loss 3201672.3307 \t Val dist 2.8178 \t precision: 0.9910 \t recall: 1.0000\t f1: 0.9955\n",
      "\n",
      "Epoch: 142/200\n"
     ]
    },
    {
     "name": "stderr",
     "output_type": "stream",
     "text": [
      "                                                                                                             \r"
     ]
    },
    {
     "name": "stdout",
     "output_type": "stream",
     "text": [
      "\n",
      "Epoch 142/200: \t Train Loss 0.0452 \n",
      "Val loss 0.0523 \t Val dist 1.7899 \t precision: 0.9910 \t recall: 1.0000\t f1: 0.9955\n",
      "\n",
      "Epoch: 143/200\n"
     ]
    },
    {
     "name": "stderr",
     "output_type": "stream",
     "text": [
      "                                                                                                                   \r"
     ]
    },
    {
     "name": "stdout",
     "output_type": "stream",
     "text": [
      "\n",
      "Epoch 143/200: \t Train Loss 0.0443 \n",
      "Val loss 1061640.2618 \t Val dist 3.9992 \t precision: 0.9730 \t recall: 1.0000\t f1: 0.9863\n",
      "\n",
      "Epoch: 144/200\n"
     ]
    },
    {
     "name": "stderr",
     "output_type": "stream",
     "text": [
      "                                                                                                             \r"
     ]
    },
    {
     "name": "stdout",
     "output_type": "stream",
     "text": [
      "\n",
      "Epoch 144/200: \t Train Loss 0.0438 \n",
      "Val loss 0.0509 \t Val dist 3.3197 \t precision: 0.9364 \t recall: 0.9904\t f1: 0.9626\n",
      "\n",
      "Epoch: 145/200\n"
     ]
    },
    {
     "name": "stderr",
     "output_type": "stream",
     "text": [
      "                                                                                                             \r"
     ]
    },
    {
     "name": "stdout",
     "output_type": "stream",
     "text": [
      "\n",
      "Epoch 145/200: \t Train Loss 0.0434 \n",
      "Val loss 0.0503 \t Val dist 1.9982 \t precision: 0.9730 \t recall: 1.0000\t f1: 0.9863\n",
      "\n",
      "Epoch: 146/200\n"
     ]
    },
    {
     "name": "stderr",
     "output_type": "stream",
     "text": [
      "                                                                                                             \r"
     ]
    },
    {
     "name": "stdout",
     "output_type": "stream",
     "text": [
      "\n",
      "Epoch 146/200: \t Train Loss 0.0427 \n",
      "Val loss 0.0535 \t Val dist 2.2258 \t precision: 0.9640 \t recall: 1.0000\t f1: 0.9817\n",
      "\n",
      "Epoch: 147/200\n"
     ]
    },
    {
     "name": "stderr",
     "output_type": "stream",
     "text": [
      "                                                                                                             \r"
     ]
    },
    {
     "name": "stdout",
     "output_type": "stream",
     "text": [
      "\n",
      "Epoch 147/200: \t Train Loss 0.0424 \n",
      "Val loss 0.0506 \t Val dist 1.8873 \t precision: 0.9730 \t recall: 1.0000\t f1: 0.9863\n",
      "\n",
      "Epoch: 148/200\n"
     ]
    },
    {
     "name": "stderr",
     "output_type": "stream",
     "text": [
      "                                                                                                             \r"
     ]
    },
    {
     "name": "stdout",
     "output_type": "stream",
     "text": [
      "\n",
      "Epoch 148/200: \t Train Loss 0.0429 \n",
      "Val loss 0.0513 \t Val dist 2.2644 \t precision: 0.9550 \t recall: 1.0000\t f1: 0.9770\n",
      "\n",
      "Epoch: 149/200\n"
     ]
    },
    {
     "name": "stderr",
     "output_type": "stream",
     "text": [
      "                                                                                                             \r"
     ]
    },
    {
     "name": "stdout",
     "output_type": "stream",
     "text": [
      "\n",
      "Epoch 149/200: \t Train Loss 0.0429 \n",
      "Val loss 0.0524 \t Val dist 1.9525 \t precision: 0.9640 \t recall: 1.0000\t f1: 0.9817\n",
      "\n",
      "Epoch: 150/200\n"
     ]
    },
    {
     "name": "stderr",
     "output_type": "stream",
     "text": [
      "                                                                                                             \r"
     ]
    },
    {
     "name": "stdout",
     "output_type": "stream",
     "text": [
      "\n",
      "Epoch 150/200: \t Train Loss 0.0427 \n",
      "Val loss 0.0509 \t Val dist 2.3152 \t precision: 0.9730 \t recall: 1.0000\t f1: 0.9863\n",
      "\n",
      "Epoch: 151/200\n"
     ]
    },
    {
     "name": "stderr",
     "output_type": "stream",
     "text": [
      "                                                                                                             \r"
     ]
    },
    {
     "name": "stdout",
     "output_type": "stream",
     "text": [
      "\n",
      "Epoch 151/200: \t Train Loss 0.0416 \n",
      "Val loss 0.0510 \t Val dist 1.5968 \t precision: 0.9910 \t recall: 1.0000\t f1: 0.9955\n",
      "Saving model\n",
      "\n",
      "Epoch: 152/200\n"
     ]
    },
    {
     "name": "stderr",
     "output_type": "stream",
     "text": [
      "                                                                                                             \r"
     ]
    },
    {
     "name": "stdout",
     "output_type": "stream",
     "text": [
      "\n",
      "Epoch 152/200: \t Train Loss 0.0424 \n",
      "Val loss 0.0498 \t Val dist 1.6003 \t precision: 0.9910 \t recall: 1.0000\t f1: 0.9955\n",
      "\n",
      "Epoch: 153/200\n"
     ]
    },
    {
     "name": "stderr",
     "output_type": "stream",
     "text": [
      "                                                                                                             \r"
     ]
    },
    {
     "name": "stdout",
     "output_type": "stream",
     "text": [
      "\n",
      "Epoch 153/200: \t Train Loss 0.0416 \n",
      "Val loss 0.0520 \t Val dist 1.8619 \t precision: 1.0000 \t recall: 1.0000\t f1: 1.0000\n",
      "\n",
      "Epoch: 154/200\n"
     ]
    },
    {
     "name": "stderr",
     "output_type": "stream",
     "text": [
      "                                                                                                             \r"
     ]
    },
    {
     "name": "stdout",
     "output_type": "stream",
     "text": [
      "\n",
      "Epoch 154/200: \t Train Loss 0.0412 \n",
      "Val loss 0.0523 \t Val dist 1.6761 \t precision: 1.0000 \t recall: 1.0000\t f1: 1.0000\n",
      "\n",
      "Epoch: 155/200\n"
     ]
    },
    {
     "name": "stderr",
     "output_type": "stream",
     "text": [
      "                                                                                                             \r"
     ]
    },
    {
     "name": "stdout",
     "output_type": "stream",
     "text": [
      "\n",
      "Epoch 155/200: \t Train Loss 0.0408 \n",
      "Val loss 0.0516 \t Val dist 1.6680 \t precision: 1.0000 \t recall: 1.0000\t f1: 1.0000\n",
      "\n",
      "Epoch: 156/200\n"
     ]
    },
    {
     "name": "stderr",
     "output_type": "stream",
     "text": [
      "                                                                                                             \r"
     ]
    },
    {
     "name": "stdout",
     "output_type": "stream",
     "text": [
      "\n",
      "Epoch 156/200: \t Train Loss 0.0399 \n",
      "Val loss 0.0512 \t Val dist 1.7427 \t precision: 0.9910 \t recall: 1.0000\t f1: 0.9955\n",
      "\n",
      "Epoch: 157/200\n"
     ]
    },
    {
     "name": "stderr",
     "output_type": "stream",
     "text": [
      "                                                                                                             \r"
     ]
    },
    {
     "name": "stdout",
     "output_type": "stream",
     "text": [
      "\n",
      "Epoch 157/200: \t Train Loss 0.0409 \n",
      "Val loss 0.0525 \t Val dist 2.7043 \t precision: 0.9910 \t recall: 1.0000\t f1: 0.9955\n",
      "\n",
      "Epoch: 158/200\n"
     ]
    },
    {
     "name": "stderr",
     "output_type": "stream",
     "text": [
      "                                                                                                                  \r"
     ]
    },
    {
     "name": "stdout",
     "output_type": "stream",
     "text": [
      "\n",
      "Epoch 158/200: \t Train Loss 0.0403 \n",
      "Val loss 813942.6153 \t Val dist 2.0481 \t precision: 0.9640 \t recall: 1.0000\t f1: 0.9817\n",
      "\n",
      "Epoch: 159/200\n"
     ]
    },
    {
     "name": "stderr",
     "output_type": "stream",
     "text": [
      "                                                                                                             \r"
     ]
    },
    {
     "name": "stdout",
     "output_type": "stream",
     "text": [
      "\n",
      "Epoch 159/200: \t Train Loss 0.0398 \n",
      "Val loss 0.0516 \t Val dist 1.8309 \t precision: 0.9910 \t recall: 1.0000\t f1: 0.9955\n",
      "\n",
      "Epoch: 160/200\n"
     ]
    },
    {
     "name": "stderr",
     "output_type": "stream",
     "text": [
      "                                                                                                             \r"
     ]
    },
    {
     "name": "stdout",
     "output_type": "stream",
     "text": [
      "\n",
      "Epoch 160/200: \t Train Loss 0.0408 \n",
      "Val loss 0.0519 \t Val dist 1.5686 \t precision: 0.9910 \t recall: 1.0000\t f1: 0.9955\n",
      "Saving model\n",
      "\n",
      "Epoch: 161/200\n"
     ]
    },
    {
     "name": "stderr",
     "output_type": "stream",
     "text": [
      "                                                                                                             \r"
     ]
    },
    {
     "name": "stdout",
     "output_type": "stream",
     "text": [
      "\n",
      "Epoch 161/200: \t Train Loss 0.0408 \n",
      "Val loss 0.0513 \t Val dist 2.1156 \t precision: 0.9820 \t recall: 1.0000\t f1: 0.9909\n",
      "\n",
      "Epoch: 162/200\n"
     ]
    },
    {
     "name": "stderr",
     "output_type": "stream",
     "text": [
      "                                                                                                                   \r"
     ]
    },
    {
     "name": "stdout",
     "output_type": "stream",
     "text": [
      "\n",
      "Epoch 162/200: \t Train Loss 0.0397 \n",
      "Val loss 1930246.4719 \t Val dist 1.7168 \t precision: 0.9640 \t recall: 1.0000\t f1: 0.9817\n",
      "\n",
      "Epoch: 163/200\n"
     ]
    },
    {
     "name": "stderr",
     "output_type": "stream",
     "text": [
      "                                                                                                             \r"
     ]
    },
    {
     "name": "stdout",
     "output_type": "stream",
     "text": [
      "\n",
      "Epoch 163/200: \t Train Loss 0.0399 \n",
      "Val loss 0.0498 \t Val dist 1.9031 \t precision: 0.9910 \t recall: 1.0000\t f1: 0.9955\n",
      "\n",
      "Epoch: 164/200\n"
     ]
    },
    {
     "name": "stderr",
     "output_type": "stream",
     "text": [
      "                                                                                                             \r"
     ]
    },
    {
     "name": "stdout",
     "output_type": "stream",
     "text": [
      "\n",
      "Epoch 164/200: \t Train Loss 0.0400 \n",
      "Val loss 0.0500 \t Val dist 1.5532 \t precision: 1.0000 \t recall: 1.0000\t f1: 1.0000\n",
      "Saving model\n",
      "\n",
      "Epoch: 165/200\n"
     ]
    },
    {
     "name": "stderr",
     "output_type": "stream",
     "text": [
      "                                                                                                             \r"
     ]
    },
    {
     "name": "stdout",
     "output_type": "stream",
     "text": [
      "\n",
      "Epoch 165/200: \t Train Loss 0.0394 \n",
      "Val loss 0.0507 \t Val dist 1.7983 \t precision: 1.0000 \t recall: 1.0000\t f1: 1.0000\n",
      "\n",
      "Epoch: 166/200\n"
     ]
    },
    {
     "name": "stderr",
     "output_type": "stream",
     "text": [
      "                                                                                                             \r"
     ]
    },
    {
     "name": "stdout",
     "output_type": "stream",
     "text": [
      "\n",
      "Epoch 166/200: \t Train Loss 0.0394 \n",
      "Val loss 0.0509 \t Val dist 1.6891 \t precision: 1.0000 \t recall: 1.0000\t f1: 1.0000\n",
      "\n",
      "Epoch: 167/200\n"
     ]
    },
    {
     "name": "stderr",
     "output_type": "stream",
     "text": [
      "                                                                                                             \r"
     ]
    },
    {
     "name": "stdout",
     "output_type": "stream",
     "text": [
      "\n",
      "Epoch 167/200: \t Train Loss 0.0400 \n",
      "Val loss 0.0526 \t Val dist 1.3998 \t precision: 1.0000 \t recall: 1.0000\t f1: 1.0000\n",
      "Saving model\n",
      "\n",
      "Epoch: 168/200\n"
     ]
    },
    {
     "name": "stderr",
     "output_type": "stream",
     "text": [
      "                                                                                                             \r"
     ]
    },
    {
     "name": "stdout",
     "output_type": "stream",
     "text": [
      "\n",
      "Epoch 168/200: \t Train Loss 0.0402 \n",
      "Val loss 0.0493 \t Val dist 1.6181 \t precision: 0.9910 \t recall: 1.0000\t f1: 0.9955\n",
      "\n",
      "Epoch: 169/200\n"
     ]
    },
    {
     "name": "stderr",
     "output_type": "stream",
     "text": [
      "                                                                                                             \r"
     ]
    },
    {
     "name": "stdout",
     "output_type": "stream",
     "text": [
      "\n",
      "Epoch 169/200: \t Train Loss 0.0386 \n",
      "Val loss 0.0515 \t Val dist 1.4212 \t precision: 1.0000 \t recall: 1.0000\t f1: 1.0000\n",
      "\n",
      "Epoch: 170/200\n"
     ]
    },
    {
     "name": "stderr",
     "output_type": "stream",
     "text": [
      "                                                                                                             \r"
     ]
    },
    {
     "name": "stdout",
     "output_type": "stream",
     "text": [
      "\n",
      "Epoch 170/200: \t Train Loss 0.0384 \n",
      "Val loss 0.0490 \t Val dist 1.4929 \t precision: 1.0000 \t recall: 1.0000\t f1: 1.0000\n",
      "\n",
      "Epoch: 171/200\n"
     ]
    },
    {
     "name": "stderr",
     "output_type": "stream",
     "text": [
      "                                                                                                             \r"
     ]
    },
    {
     "name": "stdout",
     "output_type": "stream",
     "text": [
      "\n",
      "Epoch 171/200: \t Train Loss 0.0391 \n",
      "Val loss 0.0497 \t Val dist 1.4168 \t precision: 1.0000 \t recall: 1.0000\t f1: 1.0000\n",
      "\n",
      "Epoch: 172/200\n"
     ]
    },
    {
     "name": "stderr",
     "output_type": "stream",
     "text": [
      "                                                                                                             \r"
     ]
    },
    {
     "name": "stdout",
     "output_type": "stream",
     "text": [
      "\n",
      "Epoch 172/200: \t Train Loss 0.0382 \n",
      "Val loss 0.0496 \t Val dist 1.8652 \t precision: 1.0000 \t recall: 1.0000\t f1: 1.0000\n",
      "\n",
      "Epoch: 173/200\n"
     ]
    },
    {
     "name": "stderr",
     "output_type": "stream",
     "text": [
      "                                                                                                             \r"
     ]
    },
    {
     "name": "stdout",
     "output_type": "stream",
     "text": [
      "\n",
      "Epoch 173/200: \t Train Loss 0.0375 \n",
      "Val loss 0.0510 \t Val dist 1.5035 \t precision: 1.0000 \t recall: 1.0000\t f1: 1.0000\n",
      "\n",
      "Epoch: 174/200\n"
     ]
    },
    {
     "name": "stderr",
     "output_type": "stream",
     "text": [
      "                                                                                                             \r"
     ]
    },
    {
     "name": "stdout",
     "output_type": "stream",
     "text": [
      "\n",
      "Epoch 174/200: \t Train Loss 0.0375 \n",
      "Val loss 0.0492 \t Val dist 1.4740 \t precision: 1.0000 \t recall: 1.0000\t f1: 1.0000\n",
      "\n",
      "Epoch: 175/200\n"
     ]
    },
    {
     "name": "stderr",
     "output_type": "stream",
     "text": [
      "                                                                                                             \r"
     ]
    },
    {
     "name": "stdout",
     "output_type": "stream",
     "text": [
      "\n",
      "Epoch 175/200: \t Train Loss 0.0370 \n",
      "Val loss 0.0533 \t Val dist 1.4868 \t precision: 0.9910 \t recall: 1.0000\t f1: 0.9955\n",
      "\n",
      "Epoch: 176/200\n"
     ]
    },
    {
     "name": "stderr",
     "output_type": "stream",
     "text": [
      "                                                                                                             \r"
     ]
    },
    {
     "name": "stdout",
     "output_type": "stream",
     "text": [
      "\n",
      "Epoch 176/200: \t Train Loss 0.0376 \n",
      "Val loss 0.0512 \t Val dist 1.4667 \t precision: 1.0000 \t recall: 1.0000\t f1: 1.0000\n",
      "\n",
      "Epoch: 177/200\n"
     ]
    },
    {
     "name": "stderr",
     "output_type": "stream",
     "text": [
      "                                                                                                             \r"
     ]
    },
    {
     "name": "stdout",
     "output_type": "stream",
     "text": [
      "\n",
      "Epoch 177/200: \t Train Loss 0.0386 \n",
      "Val loss 0.0501 \t Val dist 1.3773 \t precision: 1.0000 \t recall: 1.0000\t f1: 1.0000\n",
      "Saving model\n",
      "\n",
      "Epoch: 178/200\n"
     ]
    },
    {
     "name": "stderr",
     "output_type": "stream",
     "text": [
      "                                                                                                             \r"
     ]
    },
    {
     "name": "stdout",
     "output_type": "stream",
     "text": [
      "\n",
      "Epoch 178/200: \t Train Loss 0.0374 \n",
      "Val loss 0.0506 \t Val dist 1.5815 \t precision: 0.9910 \t recall: 1.0000\t f1: 0.9955\n",
      "\n",
      "Epoch: 179/200\n"
     ]
    },
    {
     "name": "stderr",
     "output_type": "stream",
     "text": [
      "                                                                                                             \r"
     ]
    },
    {
     "name": "stdout",
     "output_type": "stream",
     "text": [
      "\n",
      "Epoch 179/200: \t Train Loss 0.0373 \n",
      "Val loss 0.0493 \t Val dist 1.3670 \t precision: 1.0000 \t recall: 1.0000\t f1: 1.0000\n",
      "Saving model\n",
      "\n",
      "Epoch: 180/200\n"
     ]
    },
    {
     "name": "stderr",
     "output_type": "stream",
     "text": [
      "                                                                                                             \r"
     ]
    },
    {
     "name": "stdout",
     "output_type": "stream",
     "text": [
      "\n",
      "Epoch 180/200: \t Train Loss 0.0367 \n",
      "Val loss 0.0501 \t Val dist 1.2844 \t precision: 1.0000 \t recall: 1.0000\t f1: 1.0000\n",
      "Saving model\n",
      "\n",
      "Epoch: 181/200\n"
     ]
    },
    {
     "name": "stderr",
     "output_type": "stream",
     "text": [
      "                                                                                                             \r"
     ]
    },
    {
     "name": "stdout",
     "output_type": "stream",
     "text": [
      "\n",
      "Epoch 181/200: \t Train Loss 0.0373 \n",
      "Val loss 0.0502 \t Val dist 1.3877 \t precision: 1.0000 \t recall: 1.0000\t f1: 1.0000\n",
      "\n",
      "Epoch: 182/200\n"
     ]
    },
    {
     "name": "stderr",
     "output_type": "stream",
     "text": [
      "                                                                                                             \r"
     ]
    },
    {
     "name": "stdout",
     "output_type": "stream",
     "text": [
      "\n",
      "Epoch 182/200: \t Train Loss 0.0367 \n",
      "Val loss 0.0510 \t Val dist 1.4857 \t precision: 1.0000 \t recall: 1.0000\t f1: 1.0000\n",
      "\n",
      "Epoch: 183/200\n"
     ]
    },
    {
     "name": "stderr",
     "output_type": "stream",
     "text": [
      "                                                                                                             \r"
     ]
    },
    {
     "name": "stdout",
     "output_type": "stream",
     "text": [
      "\n",
      "Epoch 183/200: \t Train Loss 0.0365 \n",
      "Val loss 0.0504 \t Val dist 1.3303 \t precision: 0.9910 \t recall: 1.0000\t f1: 0.9955\n",
      "\n",
      "Epoch: 184/200\n"
     ]
    },
    {
     "name": "stderr",
     "output_type": "stream",
     "text": [
      "                                                                                                             \r"
     ]
    },
    {
     "name": "stdout",
     "output_type": "stream",
     "text": [
      "\n",
      "Epoch 184/200: \t Train Loss 0.0369 \n",
      "Val loss 0.0504 \t Val dist 1.5649 \t precision: 1.0000 \t recall: 1.0000\t f1: 1.0000\n",
      "\n",
      "Epoch: 185/200\n"
     ]
    },
    {
     "name": "stderr",
     "output_type": "stream",
     "text": [
      "                                                                                                             \r"
     ]
    },
    {
     "name": "stdout",
     "output_type": "stream",
     "text": [
      "\n",
      "Epoch 185/200: \t Train Loss 0.0381 \n",
      "Val loss 0.0514 \t Val dist 1.4534 \t precision: 1.0000 \t recall: 1.0000\t f1: 1.0000\n",
      "\n",
      "Epoch: 186/200\n"
     ]
    },
    {
     "name": "stderr",
     "output_type": "stream",
     "text": [
      "                                                                                                             \r"
     ]
    },
    {
     "name": "stdout",
     "output_type": "stream",
     "text": [
      "\n",
      "Epoch 186/200: \t Train Loss 0.0368 \n",
      "Val loss 0.0527 \t Val dist 1.3401 \t precision: 1.0000 \t recall: 1.0000\t f1: 1.0000\n",
      "\n",
      "Epoch: 187/200\n"
     ]
    },
    {
     "name": "stderr",
     "output_type": "stream",
     "text": [
      "                                                                                                             \r"
     ]
    },
    {
     "name": "stdout",
     "output_type": "stream",
     "text": [
      "\n",
      "Epoch 187/200: \t Train Loss 0.0384 \n",
      "Val loss 0.0507 \t Val dist 1.8522 \t precision: 0.9910 \t recall: 1.0000\t f1: 0.9955\n",
      "\n",
      "Epoch: 188/200\n"
     ]
    },
    {
     "name": "stderr",
     "output_type": "stream",
     "text": [
      "                                                                                                             \r"
     ]
    },
    {
     "name": "stdout",
     "output_type": "stream",
     "text": [
      "\n",
      "Epoch 188/200: \t Train Loss 0.0360 \n",
      "Val loss 0.0529 \t Val dist 1.6620 \t precision: 0.9910 \t recall: 1.0000\t f1: 0.9955\n",
      "\n",
      "Epoch: 189/200\n"
     ]
    },
    {
     "name": "stderr",
     "output_type": "stream",
     "text": [
      "                                                                                                             \r"
     ]
    },
    {
     "name": "stdout",
     "output_type": "stream",
     "text": [
      "\n",
      "Epoch 189/200: \t Train Loss 0.0365 \n",
      "Val loss 0.0527 \t Val dist 1.3930 \t precision: 1.0000 \t recall: 1.0000\t f1: 1.0000\n",
      "\n",
      "Epoch: 190/200\n"
     ]
    },
    {
     "name": "stderr",
     "output_type": "stream",
     "text": [
      "                                                                                                             \r"
     ]
    },
    {
     "name": "stdout",
     "output_type": "stream",
     "text": [
      "\n",
      "Epoch 190/200: \t Train Loss 0.0362 \n",
      "Val loss 0.0504 \t Val dist 1.3727 \t precision: 1.0000 \t recall: 1.0000\t f1: 1.0000\n",
      "\n",
      "Epoch: 191/200\n"
     ]
    },
    {
     "name": "stderr",
     "output_type": "stream",
     "text": [
      "                                                                                                             \r"
     ]
    },
    {
     "name": "stdout",
     "output_type": "stream",
     "text": [
      "\n",
      "Epoch 191/200: \t Train Loss 0.0357 \n",
      "Val loss 0.0501 \t Val dist 1.3727 \t precision: 1.0000 \t recall: 1.0000\t f1: 1.0000\n",
      "\n",
      "Epoch: 192/200\n"
     ]
    },
    {
     "name": "stderr",
     "output_type": "stream",
     "text": [
      "                                                                                                                   \r"
     ]
    },
    {
     "name": "stdout",
     "output_type": "stream",
     "text": [
      "\n",
      "Epoch 192/200: \t Train Loss 0.0351 \n",
      "Val loss 5701937.7567 \t Val dist 1.4765 \t precision: 0.9910 \t recall: 1.0000\t f1: 0.9955\n",
      "\n",
      "Epoch: 193/200\n"
     ]
    },
    {
     "name": "stderr",
     "output_type": "stream",
     "text": [
      "                                                                                                                   \r"
     ]
    },
    {
     "name": "stdout",
     "output_type": "stream",
     "text": [
      "\n",
      "Epoch 193/200: \t Train Loss 0.0357 \n",
      "Val loss 7448424.0428 \t Val dist 2.2733 \t precision: 0.9910 \t recall: 1.0000\t f1: 0.9955\n",
      "\n",
      "Epoch: 194/200\n"
     ]
    },
    {
     "name": "stderr",
     "output_type": "stream",
     "text": [
      "                                                                                                             \r"
     ]
    },
    {
     "name": "stdout",
     "output_type": "stream",
     "text": [
      "\n",
      "Epoch 194/200: \t Train Loss 0.0351 \n",
      "Val loss 0.0532 \t Val dist 1.3970 \t precision: 1.0000 \t recall: 1.0000\t f1: 1.0000\n",
      "\n",
      "Epoch: 195/200\n"
     ]
    },
    {
     "name": "stderr",
     "output_type": "stream",
     "text": [
      "                                                                                                             \r"
     ]
    },
    {
     "name": "stdout",
     "output_type": "stream",
     "text": [
      "\n",
      "Epoch 195/200: \t Train Loss 0.0358 \n",
      "Val loss 0.0523 \t Val dist 1.3186 \t precision: 0.9910 \t recall: 1.0000\t f1: 0.9955\n",
      "\n",
      "Epoch: 196/200\n"
     ]
    },
    {
     "name": "stderr",
     "output_type": "stream",
     "text": [
      "                                                                                                             \r"
     ]
    },
    {
     "name": "stdout",
     "output_type": "stream",
     "text": [
      "\n",
      "Epoch 196/200: \t Train Loss 0.0363 \n",
      "Val loss 0.0523 \t Val dist 1.4702 \t precision: 0.9730 \t recall: 1.0000\t f1: 0.9863\n",
      "\n",
      "Epoch: 197/200\n"
     ]
    },
    {
     "name": "stderr",
     "output_type": "stream",
     "text": [
      "                                                                                                             \r"
     ]
    },
    {
     "name": "stdout",
     "output_type": "stream",
     "text": [
      "\n",
      "Epoch 197/200: \t Train Loss 0.0351 \n",
      "Val loss 0.0511 \t Val dist 1.2591 \t precision: 1.0000 \t recall: 1.0000\t f1: 1.0000\n",
      "Saving model\n",
      "\n",
      "Epoch: 198/200\n"
     ]
    },
    {
     "name": "stderr",
     "output_type": "stream",
     "text": [
      "                                                                                                             \r"
     ]
    },
    {
     "name": "stdout",
     "output_type": "stream",
     "text": [
      "\n",
      "Epoch 198/200: \t Train Loss 0.0356 \n",
      "Val loss 0.0527 \t Val dist 1.2599 \t precision: 0.9910 \t recall: 1.0000\t f1: 0.9955\n",
      "\n",
      "Epoch: 199/200\n"
     ]
    },
    {
     "name": "stderr",
     "output_type": "stream",
     "text": [
      "                                                                                                             \r"
     ]
    },
    {
     "name": "stdout",
     "output_type": "stream",
     "text": [
      "\n",
      "Epoch 199/200: \t Train Loss 0.0351 \n",
      "Val loss 0.0504 \t Val dist 1.3725 \t precision: 1.0000 \t recall: 1.0000\t f1: 1.0000\n",
      "\n",
      "Epoch: 200/200\n"
     ]
    },
    {
     "name": "stderr",
     "output_type": "stream",
     "text": [
      "                                                                                                             "
     ]
    },
    {
     "name": "stdout",
     "output_type": "stream",
     "text": [
      "\n",
      "Epoch 200/200: \t Train Loss 0.0349 \n",
      "Val loss 0.0503 \t Val dist 1.3148 \t precision: 1.0000 \t recall: 1.0000\t f1: 1.0000\n"
     ]
    },
    {
     "name": "stderr",
     "output_type": "stream",
     "text": [
      "\r"
     ]
    }
   ],
   "source": [
    "\n",
    "for epoch in range(0, epoch_num):\n",
    "    print(\"\\nEpoch: {}/{}\".format(epoch+1, epoch_num))\n",
    "    # Call train and validate \n",
    "    train_loss = train(model, train_loader, optimizer, criterion)\n",
    "    train_loss_res.append(train_loss)\n",
    "    val_loss, val_dist, precision, recall, f1 = validate(model, val_loader, criterion, min_dist=5)\n",
    "    scheduler.step(val_dist)\n",
    "    print(\"\\nEpoch {}/{}: \\t Train Loss {:.04f} \".format(\n",
    "          epoch + 1,\n",
    "          epoch_num,\n",
    "          train_loss\n",
    "          ))\n",
    "    print(\"Val loss {:.04f} \\t Val dist {:.04f} \\t precision: {:.04f} \\t recall: {:.04f}\\t f1: {:.04f}\".format(\n",
    "          val_loss, val_dist, precision, recall, f1\n",
    "          ))\n",
    "    val_loss_res.append(val_loss)\n",
    "    val_dist_res.append(val_dist.cpu().item())\n",
    "    precision_res.append(precision)\n",
    "    recall_res.append(recall)\n",
    "    f1_res.append(f1)\n",
    "    torch.cuda.empty_cache()\n",
    "    if val_dist <= best_lev_dist:\n",
    "      best_lev_dist = val_dist\n",
    "      # Save your model checkpoint here\n",
    "      print(\"Saving model\")\n",
    "      torch.save(model.state_dict(), model_save_name)\n",
    "df_metrics = pd.DataFrame({\n",
    "\"train_loss\": train_loss_res,\n",
    "\"val_loss\": val_loss_res,\n",
    "\"val_dist\": val_dist_res,\n",
    "\"precision\": precision_res,\n",
    "\"recall\": recall_res,\n",
    "\"f1\": f1_res\n",
    "})\n",
    "df_metrics.to_csv('training_metrics.csv', index=False)"
   ]
  },
  {
   "cell_type": "markdown",
   "id": "da13da47",
   "metadata": {},
   "source": [
    "## Test"
   ]
  },
  {
   "cell_type": "code",
   "execution_count": 16,
   "id": "a99dd7ed",
   "metadata": {},
   "outputs": [
    {
     "name": "stderr",
     "output_type": "stream",
     "text": [
      "C:\\Users\\karby\\AppData\\Local\\Temp\\ipykernel_10416\\63641111.py:3: FutureWarning: You are using `torch.load` with `weights_only=False` (the current default value), which uses the default pickle module implicitly. It is possible to construct malicious pickle data which will execute arbitrary code during unpickling (See https://github.com/pytorch/pytorch/blob/main/SECURITY.md#untrusted-models for more details). In a future release, the default value for `weights_only` will be flipped to `True`. This limits the functions that could be executed during unpickling. Arbitrary objects will no longer be allowed to be loaded via this mode unless they are explicitly allowlisted by the user via `torch.serialization.add_safe_globals`. We recommend you start setting `weights_only=True` for any use case where you don't have full control of the loaded file. Please open an issue on GitHub for any issues related to this experimental feature.\n",
      "  model.load_state_dict(torch.load(model_save_name))\n",
      "                                                                                                            "
     ]
    },
    {
     "name": "stdout",
     "output_type": "stream",
     "text": [
      "Test loss 0.0420 \t Test dist 1.2411 \t precision: 0.8684 \t recall: 1.0000\t f1: 0.9296\n"
     ]
    },
    {
     "name": "stderr",
     "output_type": "stream",
     "text": [
      "\r"
     ]
    }
   ],
   "source": [
    "model = BallTrackerNet(use_eca=use_eca, use_eca1=use_eca1).to(device)  # Ensure this matches your model\n",
    "# Load the model state_dict\n",
    "model.load_state_dict(torch.load(model_save_name))\n",
    "model.to(device)\n",
    "# Set model to evaluation mode\n",
    "test_loss, test_dist, precision, recall, f1 = validate(model, test_loader, criterion, min_dist=2)\n",
    "print(\"Test loss {:.04f} \\t Test dist {:.04f} \\t precision: {:.04f} \\t recall: {:.04f}\\t f1: {:.04f}\".format(\n",
    "          test_loss, test_dist, precision, recall, f1\n",
    "          ))\n",
    "torch.cuda.empty_cache()"
   ]
  },
  {
   "cell_type": "markdown",
   "id": "747b4d34",
   "metadata": {},
   "source": [
    "## Visualization"
   ]
  },
  {
   "cell_type": "code",
   "execution_count": 17,
   "id": "e3eff998",
   "metadata": {},
   "outputs": [
    {
     "name": "stdout",
     "output_type": "stream",
     "text": [
      "Saved comparison frames to ./visualizations/\n"
     ]
    }
   ],
   "source": [
    "visualize_predictions(model, test_loader, output_dir=\"visualizations_padel_ball\", device=device)\n",
    "print(\"Saved comparison frames to ./visualizations/\")"
   ]
  }
 ],
 "metadata": {
  "kernelspec": {
   "display_name": "ml_env",
   "language": "python",
   "name": "python3"
  },
  "language_info": {
   "codemirror_mode": {
    "name": "ipython",
    "version": 3
   },
   "file_extension": ".py",
   "mimetype": "text/x-python",
   "name": "python",
   "nbconvert_exporter": "python",
   "pygments_lexer": "ipython3",
   "version": "3.9.6"
  }
 },
 "nbformat": 4,
 "nbformat_minor": 5
}
